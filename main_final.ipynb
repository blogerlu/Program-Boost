{
 "cells": [
  {
   "cell_type": "code",
   "execution_count": null,
   "metadata": {},
   "outputs": [],
   "source": []
  },
  {
   "cell_type": "code",
   "execution_count": 187,
   "metadata": {},
   "outputs": [],
   "source": [
    "import numpy as np\n",
    "import pandas as pd\n",
    "\n",
    "import os\n",
    "\n",
    "from lightgbm import LGBMRegressor\n",
    "from sklearn.model_selection import train_test_split\n",
    "from sklearn.model_selection import KFold\n",
    "from sklearn.metrics import mean_squared_error\n",
    "\n",
    "import warnings\n",
    "\n",
    "import lightgbm\n",
    "\n",
    "import torch\n",
    "from torch import nn\n",
    "import torch.nn.functional as F\n",
    "from torch.utils.data import DataLoader\n",
    "\n",
    "from tqdm.notebook import tqdm\n",
    "\n",
    "import matplotlib\n",
    "import matplotlib.pyplot as plt\n",
    "import seaborn as sns\n",
    "\n",
    "matplotlib.style.use('seaborn-deep')\n",
    "sns.set()\n",
    "\n",
    "\n",
    "%matplotlib inline\n",
    "\n",
    "%config InlineBackend.figure_format = 'retina'\n",
    "\n",
    "\n",
    "import warnings\n",
    "warnings.filterwarnings(\"ignore\")"
   ]
  },
  {
   "cell_type": "code",
   "execution_count": null,
   "metadata": {},
   "outputs": [],
   "source": []
  },
  {
   "cell_type": "markdown",
   "metadata": {},
   "source": [
    "# Load Data and Analysis"
   ]
  },
  {
   "cell_type": "code",
   "execution_count": 32,
   "metadata": {},
   "outputs": [
    {
     "data": {
      "text/plain": [
       "['classifiers.csv',\n",
       " 'diagnosticresultdetails.csv',\n",
       " 'diagnosticresults.csv',\n",
       " 'egeresultdetails.csv',\n",
       " 'egeresults.csv',\n",
       " 'medalistresults.csv',\n",
       " 'medalistsubjects.csv',\n",
       " 'participants.csv',\n",
       " 'selfdiagnosticresultdetails.csv',\n",
       " 'selfdiagnosticresults.csv',\n",
       " 'subjects.csv']"
      ]
     },
     "execution_count": 32,
     "metadata": {},
     "output_type": "execute_result"
    }
   ],
   "source": [
    "os.listdir('datas')"
   ]
  },
  {
   "cell_type": "code",
   "execution_count": 201,
   "metadata": {},
   "outputs": [],
   "source": [
    "# classifiers = pd.read_csv('datas/classifiers.csv')\n",
    "diagnosticresultdetails = pd.read_csv('datas/diagnosticresultdetails.csv')\n",
    "diagnosticresults = pd.read_csv('datas/diagnosticresults.csv')\n",
    "egeresultdetails = pd.read_csv('datas/egeresultdetails.csv')\n",
    "egeresults = pd.read_csv('datas/egeresults.csv')\n",
    "medalistresults = pd.read_csv('datas/medalistresults.csv')\n",
    "medalistsubjects = pd.read_csv('datas/medalistsubjects.csv')\n",
    "participants = pd.read_csv('datas/participants.csv')\n",
    "selfdiagnosticresultdetails = pd.read_csv('datas/selfdiagnosticresultdetails.csv')\n",
    "selfdiagnosticresults = pd.read_csv('datas/selfdiagnosticresults.csv')\n",
    "subjects = pd.read_csv('datas/subjects.csv')"
   ]
  },
  {
   "cell_type": "code",
   "execution_count": 36,
   "metadata": {},
   "outputs": [],
   "source": [
    "datas = [\n",
    "        diagnosticresultdetails,\n",
    "        diagnosticresults,\n",
    "        egeresultdetails,\n",
    "        egeresults,\n",
    "        medalistresults,\n",
    "        medalistsubjects,\n",
    "        participants,\n",
    "        selfdiagnosticresultdetails,\n",
    "        selfdiagnosticresults,\n",
    "        subjects]\n",
    "\n",
    "datas_name = [\n",
    "        'diagnosticresultdetails',\n",
    "        'diagnosticresults',\n",
    "        'egeresultdetails',\n",
    "        'egeresults',\n",
    "        'medalistresults',\n",
    "        'medalistsubjects',\n",
    "        'participants',\n",
    "        'selfdiagnosticresultdetails',\n",
    "        'selfdiagnosticresults',\n",
    "        'subjects']"
   ]
  },
  {
   "cell_type": "code",
   "execution_count": 47,
   "metadata": {
    "collapsed": true
   },
   "outputs": [
    {
     "name": "stdout",
     "output_type": "stream",
     "text": [
      "name: diagnosticresultdetails\n",
      "shape: (50000, 8)\n",
      "Id               0.000\n",
      "ResultId         0.000\n",
      "Source           0.000\n",
      "NumberInKim      0.000\n",
      "Mark             7.508\n",
      "MaxMark          0.000\n",
      "ClassifierId    13.592\n",
      "Partition        0.000\n",
      "dtype: float64\n",
      "##########################\n",
      "\n",
      "name: diagnosticresults\n",
      "shape: (11360, 9)\n",
      "ResultId           0.0\n",
      "Source             0.0\n",
      "ParticipantId      0.0\n",
      "StudentParallel    0.0\n",
      "TestDate           0.0\n",
      "Mark               0.0\n",
      "MaxMark            0.0\n",
      "SubjectId          0.0\n",
      "Partition          0.0\n",
      "dtype: float64\n",
      "##########################\n",
      "\n",
      "name: egeresultdetails\n",
      "shape: (11360, 9)\n",
      "ResultId           0.0\n",
      "Source             0.0\n",
      "ParticipantId      0.0\n",
      "StudentParallel    0.0\n",
      "TestDate           0.0\n",
      "Mark               0.0\n",
      "MaxMark            0.0\n",
      "SubjectId          0.0\n",
      "Partition          0.0\n",
      "dtype: float64\n",
      "##########################\n",
      "\n",
      "name: egeresults\n",
      "shape: (38600, 6)\n",
      "Id               0.0\n",
      "ParticipantId    0.0\n",
      "DateExam         0.0\n",
      "MarkPercent      0.0\n",
      "SubjectId        0.0\n",
      "Partition        0.0\n",
      "dtype: float64\n",
      "##########################\n",
      "\n",
      "name: medalistresults\n",
      "shape: (1836, 4)\n",
      "Id               0.0\n",
      "Type             0.0\n",
      "ParticipantId    0.0\n",
      "Partition        0.0\n",
      "dtype: float64\n",
      "##########################\n",
      "\n",
      "name: medalistsubjects\n",
      "shape: (70, 4)\n",
      "ResultId     0.0\n",
      "Id           0.0\n",
      "SubjectId    0.0\n",
      "Partition    0.0\n",
      "dtype: float64\n",
      "##########################\n",
      "\n",
      "name: participants\n",
      "shape: (11328, 4)\n",
      "Parallel     0.0\n",
      "OOCode       0.0\n",
      "Id           0.0\n",
      "Partition    0.0\n",
      "dtype: float64\n",
      "##########################\n",
      "\n",
      "name: selfdiagnosticresultdetails\n",
      "shape: (529358, 7)\n",
      "Id               0.000000\n",
      "ResultId         0.000000\n",
      "NumberInKim      0.000000\n",
      "Mark            36.629087\n",
      "MaxMark          0.000000\n",
      "ClassifierId     0.651166\n",
      "Partition        0.000000\n",
      "dtype: float64\n",
      "##########################\n",
      "\n",
      "name: selfdiagnosticresults\n",
      "shape: (21438, 8)\n",
      "Id                 0.000000\n",
      "ParticipantId      0.000000\n",
      "StudentParallel    0.000000\n",
      "TestDate           0.000000\n",
      "Mark               0.055975\n",
      "MaxMark            0.000000\n",
      "SubjectId          0.000000\n",
      "Partition          0.000000\n",
      "dtype: float64\n",
      "##########################\n",
      "\n",
      "name: subjects\n",
      "shape: (97, 2)\n",
      "Id      0.0\n",
      "Name    0.0\n",
      "dtype: float64\n",
      "##########################\n",
      "\n"
     ]
    }
   ],
   "source": [
    "for df, name in zip(datas, datas_name):\n",
    "    print(f'name: {name}\\nshape: {df.shape}\\n{df.isnull().mean() * 100}')\n",
    "    colours = ['#000099', '#ffff00'] \n",
    "#     sns.heatmap(df.isnull(), cmap=sns.color_palette(colours))\n",
    "#     plt.show()\n",
    "    print('##########################')\n",
    "    print()"
   ]
  },
  {
   "cell_type": "code",
   "execution_count": 5,
   "metadata": {
    "collapsed": true
   },
   "outputs": [
    {
     "name": "stdout",
     "output_type": "stream",
     "text": [
      "1 Академический класс\n",
      "2 Академический профиль\n",
      "3 Алгебра\n",
      "4 Английский язык\n",
      "5 Английский язык (устный)\n",
      "6 Английский язык старт\n",
      "7 Астрономия\n",
      "8 Безопасность дорожного движения\n",
      "9 Биология\n",
      "10 Веб-дизайн и разработка\n",
      "11 Всеобщая история\n",
      "12 География\n",
      "13 Геометрия\n",
      "14 Глобальные компетенции\n",
      "15 Грамотность чтения\n",
      "16 Графический дизайн\n",
      "17 Демонстрационный вариант\n",
      "18 Дефектология\n",
      "19 Естественнонаучная грамотность\n",
      "20 Естествознание\n",
      "21 Заместитель по управлению ресурсами\n",
      "22 Знакомство с МЭШ (Демоверсия)\n",
      "23 Изобразительное искусство\n",
      "24 ИКТ-компетентность\n",
      "25 Инженерный класс\n",
      "26 Инженерный профиль\n",
      "27 Информатика и ИКТ\n",
      "28 Информационная грамотность\n",
      "29 Искусство (МХК)\n",
      "30 Испанский язык\n",
      "31 История\n",
      "32 История России\n",
      "33 История России 1 полугодие\n",
      "34 Итальянский язык\n",
      "35 ИТ-решения для бизнеса на платформе 1С: Предприятие 8\"\"\n",
      "36 Кадетский профиль\n",
      "37 Китайский язык\n",
      "38 Коммуникация на английском языке\n",
      "39 Компетенции в сфере безопасности\n",
      "40 Корпоративная защита от внутренних угроз информационной безопасности\n",
      "41 Креативное мышление\n",
      "42 Кузовной ремонт\n",
      "43 Культурологическая компетентность\n",
      "44 Литература\n",
      "45 Литературное чтение\n",
      "46 Логические действия\n",
      "47 Логопедия\n",
      "48 Математика\n",
      "49 Математика профильная\n",
      "50 Математическая грамотность\n",
      "51 Медицинский профиль\n",
      "52 Межпредметные диагностики\n",
      "53 Метапредметные\n",
      "54 Метапредметные умения\n",
      "55 Метапредметные умения (дошкольное образование)\n",
      "56 Метапредметные умения (начальное образование)\n",
      "57 Музыка\n",
      "58 Немецкий язык\n",
      "59 Немецкий язык (устный)\n",
      "60 ОБЖ\n",
      "61 Обществознание\n",
      "62 Окраска автомобиля\n",
      "63 Окружающий мир\n",
      "64 Основы безопасности жизнедеятельности\n",
      "65 Педагогический класс\n",
      "66 Право\n",
      "67 Правовая грамотность\n",
      "68 Предпрофессиональная подготовка\n",
      "69 Программные решения для бизнеса\n",
      "70 Профессиональные компетенции\n",
      "71 Профессиональные компетенции воспитателей\n",
      "72 Профессиональные компетенции педагогов, реализующих АООП\n",
      "73 Психология\n",
      "74 Ремонт и обслуживание легковых автомобилей\n",
      "75 Русский язык\n",
      "76 Технология\n",
      "77 Физика\n",
      "78 Физическая культура\n",
      "79 Финансовая грамотность\n",
      "80 Фотография\n",
      "81 Французcкий язык\n",
      "82 Французский язык\n",
      "83 Французский язык (устный)\n",
      "84 Французский язык старт\n",
      "85 Функциональная грамотность\n",
      "86 Химия\n",
      "87 Читательская грамотность\n",
      "88 Чтение\n",
      "89 Школьные диагностики\n",
      "90 Экология\n",
      "91 Экономика\n",
      "92 Электромонтаж\n",
      "93 Электроника\n",
      "94 Кадетский класс\n",
      "95 Ознакомительный тренинг для оценки профессиональных компетенций учителей-дефектологов\n",
      "96 Ознакомительный тренинг для оценки профессиональных компетенций учителей-логопедов\n",
      "97 Ознакомительный тренинг для оценки профессиональных компетенций учителей-психологов\n"
     ]
    }
   ],
   "source": [
    "for i, j in zip(subjects['Name'], subjects['Id']):\n",
    "    print(j, i)"
   ]
  },
  {
   "cell_type": "markdown",
   "metadata": {
    "heading_collapsed": true
   },
   "source": [
    "## diagnosticresultdetails"
   ]
  },
  {
   "cell_type": "code",
   "execution_count": 7,
   "metadata": {
    "hidden": true,
    "scrolled": true
   },
   "outputs": [
    {
     "data": {
      "text/html": [
       "<div>\n",
       "<style scoped>\n",
       "    .dataframe tbody tr th:only-of-type {\n",
       "        vertical-align: middle;\n",
       "    }\n",
       "\n",
       "    .dataframe tbody tr th {\n",
       "        vertical-align: top;\n",
       "    }\n",
       "\n",
       "    .dataframe thead th {\n",
       "        text-align: right;\n",
       "    }\n",
       "</style>\n",
       "<table border=\"1\" class=\"dataframe\">\n",
       "  <thead>\n",
       "    <tr style=\"text-align: right;\">\n",
       "      <th></th>\n",
       "      <th>Id</th>\n",
       "      <th>ResultId</th>\n",
       "      <th>Source</th>\n",
       "      <th>NumberInKim</th>\n",
       "      <th>Mark</th>\n",
       "      <th>MaxMark</th>\n",
       "      <th>ClassifierId</th>\n",
       "      <th>Partition</th>\n",
       "    </tr>\n",
       "  </thead>\n",
       "  <tbody>\n",
       "    <tr>\n",
       "      <th>0</th>\n",
       "      <td>3151177</td>\n",
       "      <td>187000</td>\n",
       "      <td>0</td>\n",
       "      <td>1</td>\n",
       "      <td>0.0</td>\n",
       "      <td>2.0</td>\n",
       "      <td>1883.0</td>\n",
       "      <td>1</td>\n",
       "    </tr>\n",
       "    <tr>\n",
       "      <th>1</th>\n",
       "      <td>3151178</td>\n",
       "      <td>187000</td>\n",
       "      <td>0</td>\n",
       "      <td>2</td>\n",
       "      <td>1.0</td>\n",
       "      <td>1.0</td>\n",
       "      <td>2579.0</td>\n",
       "      <td>1</td>\n",
       "    </tr>\n",
       "  </tbody>\n",
       "</table>\n",
       "</div>"
      ],
      "text/plain": [
       "        Id  ResultId  Source  NumberInKim  Mark  MaxMark  ClassifierId  \\\n",
       "0  3151177    187000       0            1   0.0      2.0        1883.0   \n",
       "1  3151178    187000       0            2   1.0      1.0        2579.0   \n",
       "\n",
       "   Partition  \n",
       "0          1  \n",
       "1          1  "
      ]
     },
     "execution_count": 7,
     "metadata": {},
     "output_type": "execute_result"
    }
   ],
   "source": [
    "diagnosticresultdetails.head(2)"
   ]
  },
  {
   "cell_type": "code",
   "execution_count": 56,
   "metadata": {
    "hidden": true
   },
   "outputs": [
    {
     "data": {
      "text/plain": [
       "0.6379851127407673"
      ]
     },
     "execution_count": 56,
     "metadata": {},
     "output_type": "execute_result"
    }
   ],
   "source": [
    "(diagnosticresultdetails['Mark'] / diagnosticresultdetails['MaxMark']).mean()"
   ]
  },
  {
   "cell_type": "markdown",
   "metadata": {
    "heading_collapsed": true
   },
   "source": [
    "## diagnosticresults"
   ]
  },
  {
   "cell_type": "code",
   "execution_count": 9,
   "metadata": {
    "hidden": true
   },
   "outputs": [
    {
     "data": {
      "text/html": [
       "<div>\n",
       "<style scoped>\n",
       "    .dataframe tbody tr th:only-of-type {\n",
       "        vertical-align: middle;\n",
       "    }\n",
       "\n",
       "    .dataframe tbody tr th {\n",
       "        vertical-align: top;\n",
       "    }\n",
       "\n",
       "    .dataframe thead th {\n",
       "        text-align: right;\n",
       "    }\n",
       "</style>\n",
       "<table border=\"1\" class=\"dataframe\">\n",
       "  <thead>\n",
       "    <tr style=\"text-align: right;\">\n",
       "      <th></th>\n",
       "      <th>ResultId</th>\n",
       "      <th>Source</th>\n",
       "      <th>ParticipantId</th>\n",
       "      <th>StudentParallel</th>\n",
       "      <th>TestDate</th>\n",
       "      <th>Mark</th>\n",
       "      <th>MaxMark</th>\n",
       "      <th>SubjectId</th>\n",
       "      <th>Partition</th>\n",
       "    </tr>\n",
       "  </thead>\n",
       "  <tbody>\n",
       "    <tr>\n",
       "      <th>0</th>\n",
       "      <td>187000</td>\n",
       "      <td>0</td>\n",
       "      <td>C70E4C52-34C9-4FBE-9B52-4B78AE43C2DA</td>\n",
       "      <td>11</td>\n",
       "      <td>2019-11-08 16:52:48</td>\n",
       "      <td>25.0</td>\n",
       "      <td>33</td>\n",
       "      <td>75</td>\n",
       "      <td>1</td>\n",
       "    </tr>\n",
       "    <tr>\n",
       "      <th>1</th>\n",
       "      <td>239604</td>\n",
       "      <td>0</td>\n",
       "      <td>20647873-4AA8-42E3-B7FE-51DE8E0BEAF5</td>\n",
       "      <td>11</td>\n",
       "      <td>2020-03-20 15:04:34</td>\n",
       "      <td>12.0</td>\n",
       "      <td>30</td>\n",
       "      <td>77</td>\n",
       "      <td>1</td>\n",
       "    </tr>\n",
       "  </tbody>\n",
       "</table>\n",
       "</div>"
      ],
      "text/plain": [
       "   ResultId  Source                         ParticipantId  StudentParallel  \\\n",
       "0    187000       0  C70E4C52-34C9-4FBE-9B52-4B78AE43C2DA               11   \n",
       "1    239604       0  20647873-4AA8-42E3-B7FE-51DE8E0BEAF5               11   \n",
       "\n",
       "              TestDate  Mark  MaxMark  SubjectId  Partition  \n",
       "0  2019-11-08 16:52:48  25.0       33         75          1  \n",
       "1  2020-03-20 15:04:34  12.0       30         77          1  "
      ]
     },
     "execution_count": 9,
     "metadata": {},
     "output_type": "execute_result"
    }
   ],
   "source": [
    "diagnosticresults.head(2)"
   ]
  },
  {
   "cell_type": "code",
   "execution_count": 57,
   "metadata": {
    "hidden": true
   },
   "outputs": [
    {
     "data": {
      "text/plain": [
       "0.44391132499566144"
      ]
     },
     "execution_count": 57,
     "metadata": {},
     "output_type": "execute_result"
    }
   ],
   "source": [
    "(diagnosticresults['Mark'] / diagnosticresults['MaxMark']).mean()"
   ]
  },
  {
   "cell_type": "markdown",
   "metadata": {
    "heading_collapsed": true
   },
   "source": [
    "## egeresultdetails"
   ]
  },
  {
   "cell_type": "code",
   "execution_count": 58,
   "metadata": {
    "hidden": true,
    "scrolled": true
   },
   "outputs": [
    {
     "data": {
      "text/html": [
       "<div>\n",
       "<style scoped>\n",
       "    .dataframe tbody tr th:only-of-type {\n",
       "        vertical-align: middle;\n",
       "    }\n",
       "\n",
       "    .dataframe tbody tr th {\n",
       "        vertical-align: top;\n",
       "    }\n",
       "\n",
       "    .dataframe thead th {\n",
       "        text-align: right;\n",
       "    }\n",
       "</style>\n",
       "<table border=\"1\" class=\"dataframe\">\n",
       "  <thead>\n",
       "    <tr style=\"text-align: right;\">\n",
       "      <th></th>\n",
       "      <th>ResultId</th>\n",
       "      <th>Source</th>\n",
       "      <th>ParticipantId</th>\n",
       "      <th>StudentParallel</th>\n",
       "      <th>TestDate</th>\n",
       "      <th>Mark</th>\n",
       "      <th>MaxMark</th>\n",
       "      <th>SubjectId</th>\n",
       "      <th>Partition</th>\n",
       "    </tr>\n",
       "  </thead>\n",
       "  <tbody>\n",
       "    <tr>\n",
       "      <th>0</th>\n",
       "      <td>187000</td>\n",
       "      <td>0</td>\n",
       "      <td>C70E4C52-34C9-4FBE-9B52-4B78AE43C2DA</td>\n",
       "      <td>11</td>\n",
       "      <td>2019-11-08 16:52:48</td>\n",
       "      <td>25.0</td>\n",
       "      <td>33</td>\n",
       "      <td>75</td>\n",
       "      <td>1</td>\n",
       "    </tr>\n",
       "    <tr>\n",
       "      <th>1</th>\n",
       "      <td>239604</td>\n",
       "      <td>0</td>\n",
       "      <td>20647873-4AA8-42E3-B7FE-51DE8E0BEAF5</td>\n",
       "      <td>11</td>\n",
       "      <td>2020-03-20 15:04:34</td>\n",
       "      <td>12.0</td>\n",
       "      <td>30</td>\n",
       "      <td>77</td>\n",
       "      <td>1</td>\n",
       "    </tr>\n",
       "  </tbody>\n",
       "</table>\n",
       "</div>"
      ],
      "text/plain": [
       "   ResultId  Source                         ParticipantId  StudentParallel  \\\n",
       "0    187000       0  C70E4C52-34C9-4FBE-9B52-4B78AE43C2DA               11   \n",
       "1    239604       0  20647873-4AA8-42E3-B7FE-51DE8E0BEAF5               11   \n",
       "\n",
       "              TestDate  Mark  MaxMark  SubjectId  Partition  \n",
       "0  2019-11-08 16:52:48  25.0       33         75          1  \n",
       "1  2020-03-20 15:04:34  12.0       30         77          1  "
      ]
     },
     "execution_count": 58,
     "metadata": {},
     "output_type": "execute_result"
    }
   ],
   "source": [
    "egeresultdetails.head(2)"
   ]
  },
  {
   "cell_type": "code",
   "execution_count": 59,
   "metadata": {
    "hidden": true,
    "scrolled": true
   },
   "outputs": [
    {
     "data": {
      "text/plain": [
       "0.44391132499566144"
      ]
     },
     "execution_count": 59,
     "metadata": {},
     "output_type": "execute_result"
    }
   ],
   "source": [
    "(egeresultdetails['Mark'] / egeresultdetails['MaxMark']).mean()"
   ]
  },
  {
   "cell_type": "markdown",
   "metadata": {},
   "source": [
    "## egeresults"
   ]
  },
  {
   "cell_type": "code",
   "execution_count": 60,
   "metadata": {},
   "outputs": [
    {
     "data": {
      "text/html": [
       "<div>\n",
       "<style scoped>\n",
       "    .dataframe tbody tr th:only-of-type {\n",
       "        vertical-align: middle;\n",
       "    }\n",
       "\n",
       "    .dataframe tbody tr th {\n",
       "        vertical-align: top;\n",
       "    }\n",
       "\n",
       "    .dataframe thead th {\n",
       "        text-align: right;\n",
       "    }\n",
       "</style>\n",
       "<table border=\"1\" class=\"dataframe\">\n",
       "  <thead>\n",
       "    <tr style=\"text-align: right;\">\n",
       "      <th></th>\n",
       "      <th>Id</th>\n",
       "      <th>ParticipantId</th>\n",
       "      <th>DateExam</th>\n",
       "      <th>MarkPercent</th>\n",
       "      <th>SubjectId</th>\n",
       "      <th>Partition</th>\n",
       "    </tr>\n",
       "  </thead>\n",
       "  <tbody>\n",
       "    <tr>\n",
       "      <th>0</th>\n",
       "      <td>000176B3-FD22-464F-80E4-1903332D8EFF</td>\n",
       "      <td>74A04FC2-A13B-468F-B4FF-08D4A3DDCEEA</td>\n",
       "      <td>2020-07-16</td>\n",
       "      <td>75</td>\n",
       "      <td>86</td>\n",
       "      <td>1</td>\n",
       "    </tr>\n",
       "    <tr>\n",
       "      <th>1</th>\n",
       "      <td>0007FBF5-CECE-4769-AAA4-F8D3B54460DE</td>\n",
       "      <td>4C5F3B22-6439-4255-83A3-9C2573607F96</td>\n",
       "      <td>2020-07-20</td>\n",
       "      <td>77</td>\n",
       "      <td>9</td>\n",
       "      <td>1</td>\n",
       "    </tr>\n",
       "  </tbody>\n",
       "</table>\n",
       "</div>"
      ],
      "text/plain": [
       "                                     Id                         ParticipantId  \\\n",
       "0  000176B3-FD22-464F-80E4-1903332D8EFF  74A04FC2-A13B-468F-B4FF-08D4A3DDCEEA   \n",
       "1  0007FBF5-CECE-4769-AAA4-F8D3B54460DE  4C5F3B22-6439-4255-83A3-9C2573607F96   \n",
       "\n",
       "     DateExam  MarkPercent  SubjectId  Partition  \n",
       "0  2020-07-16           75         86          1  \n",
       "1  2020-07-20           77          9          1  "
      ]
     },
     "execution_count": 60,
     "metadata": {},
     "output_type": "execute_result"
    }
   ],
   "source": [
    "egeresults.head(2)"
   ]
  },
  {
   "cell_type": "code",
   "execution_count": 61,
   "metadata": {},
   "outputs": [
    {
     "data": {
      "text/plain": [
       "64.65523316062176"
      ]
     },
     "execution_count": 61,
     "metadata": {},
     "output_type": "execute_result"
    }
   ],
   "source": [
    "egeresults['MarkPercent'].mean()"
   ]
  },
  {
   "cell_type": "code",
   "execution_count": 80,
   "metadata": {},
   "outputs": [
    {
     "data": {
      "text/plain": [
       "<AxesSubplot:>"
      ]
     },
     "execution_count": 80,
     "metadata": {},
     "output_type": "execute_result"
    },
    {
     "data": {
      "image/png": "[encoded data removed]",
      "text/plain": [
       "<Figure size 432x288 with 1 Axes>"
      ]
     },
     "metadata": {
      "image/png": {
       "height": 251,
       "width": 383
      },
      "needs_background": "light"
     },
     "output_type": "display_data"
    }
   ],
   "source": [
    "egeresults['MarkPercent'].hist()"
   ]
  },
  {
   "cell_type": "code",
   "execution_count": 77,
   "metadata": {},
   "outputs": [
    {
     "data": {
      "text/plain": [
       "<AxesSubplot:>"
      ]
     },
     "execution_count": 77,
     "metadata": {},
     "output_type": "execute_result"
    },
    {
     "data": {
      "image/png": "[encoded data removed]",
      "text/plain": [
       "<Figure size 432x288 with 1 Axes>"
      ]
     },
     "metadata": {
      "image/png": {
       "height": 251,
       "width": 383
      },
      "needs_background": "light"
     },
     "output_type": "display_data"
    }
   ],
   "source": [
    "egeresults.groupby('ParticipantId').agg('Id').count().hist()"
   ]
  },
  {
   "cell_type": "markdown",
   "metadata": {
    "heading_collapsed": true
   },
   "source": [
    "## medalistresults"
   ]
  },
  {
   "cell_type": "code",
   "execution_count": 12,
   "metadata": {
    "hidden": true
   },
   "outputs": [
    {
     "data": {
      "text/html": [
       "<div>\n",
       "<style scoped>\n",
       "    .dataframe tbody tr th:only-of-type {\n",
       "        vertical-align: middle;\n",
       "    }\n",
       "\n",
       "    .dataframe tbody tr th {\n",
       "        vertical-align: top;\n",
       "    }\n",
       "\n",
       "    .dataframe thead th {\n",
       "        text-align: right;\n",
       "    }\n",
       "</style>\n",
       "<table border=\"1\" class=\"dataframe\">\n",
       "  <thead>\n",
       "    <tr style=\"text-align: right;\">\n",
       "      <th></th>\n",
       "      <th>Id</th>\n",
       "      <th>Type</th>\n",
       "      <th>ParticipantId</th>\n",
       "      <th>Partition</th>\n",
       "    </tr>\n",
       "  </thead>\n",
       "  <tbody>\n",
       "    <tr>\n",
       "      <th>0</th>\n",
       "      <td>25</td>\n",
       "      <td>0</td>\n",
       "      <td>B693A6E8-E8C9-40F5-8E63-0083317462F5</td>\n",
       "      <td>1</td>\n",
       "    </tr>\n",
       "    <tr>\n",
       "      <th>1</th>\n",
       "      <td>27</td>\n",
       "      <td>0</td>\n",
       "      <td>EAC81C2C-E4C8-4213-A077-C013281F477A</td>\n",
       "      <td>1</td>\n",
       "    </tr>\n",
       "  </tbody>\n",
       "</table>\n",
       "</div>"
      ],
      "text/plain": [
       "   Id  Type                         ParticipantId  Partition\n",
       "0  25     0  B693A6E8-E8C9-40F5-8E63-0083317462F5          1\n",
       "1  27     0  EAC81C2C-E4C8-4213-A077-C013281F477A          1"
      ]
     },
     "execution_count": 12,
     "metadata": {},
     "output_type": "execute_result"
    }
   ],
   "source": [
    "medalistresults.head(2)"
   ]
  },
  {
   "cell_type": "code",
   "execution_count": 67,
   "metadata": {
    "hidden": true
   },
   "outputs": [
    {
     "data": {
      "text/plain": [
       "<AxesSubplot:>"
      ]
     },
     "execution_count": 67,
     "metadata": {},
     "output_type": "execute_result"
    },
    {
     "data": {
      "image/png": "[encoded data removed]",
      "text/plain": [
       "<Figure size 432x288 with 1 Axes>"
      ]
     },
     "metadata": {
      "image/png": {
       "height": 251,
       "width": 383
      },
      "needs_background": "light"
     },
     "output_type": "display_data"
    }
   ],
   "source": [
    "medalistresults['Type'].hist(bins=4)"
   ]
  },
  {
   "cell_type": "markdown",
   "metadata": {
    "heading_collapsed": true
   },
   "source": [
    "## medalistsubjects"
   ]
  },
  {
   "cell_type": "code",
   "execution_count": 13,
   "metadata": {
    "hidden": true
   },
   "outputs": [
    {
     "data": {
      "text/html": [
       "<div>\n",
       "<style scoped>\n",
       "    .dataframe tbody tr th:only-of-type {\n",
       "        vertical-align: middle;\n",
       "    }\n",
       "\n",
       "    .dataframe tbody tr th {\n",
       "        vertical-align: top;\n",
       "    }\n",
       "\n",
       "    .dataframe thead th {\n",
       "        text-align: right;\n",
       "    }\n",
       "</style>\n",
       "<table border=\"1\" class=\"dataframe\">\n",
       "  <thead>\n",
       "    <tr style=\"text-align: right;\">\n",
       "      <th></th>\n",
       "      <th>ResultId</th>\n",
       "      <th>Id</th>\n",
       "      <th>SubjectId</th>\n",
       "      <th>Partition</th>\n",
       "    </tr>\n",
       "  </thead>\n",
       "  <tbody>\n",
       "    <tr>\n",
       "      <th>0</th>\n",
       "      <td>379</td>\n",
       "      <td>1</td>\n",
       "      <td>48</td>\n",
       "      <td>1</td>\n",
       "    </tr>\n",
       "    <tr>\n",
       "      <th>1</th>\n",
       "      <td>399</td>\n",
       "      <td>24</td>\n",
       "      <td>64</td>\n",
       "      <td>1</td>\n",
       "    </tr>\n",
       "  </tbody>\n",
       "</table>\n",
       "</div>"
      ],
      "text/plain": [
       "   ResultId  Id  SubjectId  Partition\n",
       "0       379   1         48          1\n",
       "1       399  24         64          1"
      ]
     },
     "execution_count": 13,
     "metadata": {},
     "output_type": "execute_result"
    }
   ],
   "source": [
    "medalistsubjects.head(2)"
   ]
  },
  {
   "cell_type": "markdown",
   "metadata": {
    "heading_collapsed": true
   },
   "source": [
    "## selfdiagnosticresultdetails"
   ]
  },
  {
   "cell_type": "code",
   "execution_count": 70,
   "metadata": {
    "hidden": true,
    "scrolled": true
   },
   "outputs": [
    {
     "data": {
      "text/html": [
       "<div>\n",
       "<style scoped>\n",
       "    .dataframe tbody tr th:only-of-type {\n",
       "        vertical-align: middle;\n",
       "    }\n",
       "\n",
       "    .dataframe tbody tr th {\n",
       "        vertical-align: top;\n",
       "    }\n",
       "\n",
       "    .dataframe thead th {\n",
       "        text-align: right;\n",
       "    }\n",
       "</style>\n",
       "<table border=\"1\" class=\"dataframe\">\n",
       "  <thead>\n",
       "    <tr style=\"text-align: right;\">\n",
       "      <th></th>\n",
       "      <th>Id</th>\n",
       "      <th>ResultId</th>\n",
       "      <th>NumberInKim</th>\n",
       "      <th>Mark</th>\n",
       "      <th>MaxMark</th>\n",
       "      <th>ClassifierId</th>\n",
       "      <th>Partition</th>\n",
       "    </tr>\n",
       "  </thead>\n",
       "  <tbody>\n",
       "    <tr>\n",
       "      <th>0</th>\n",
       "      <td>36837244</td>\n",
       "      <td>2369230</td>\n",
       "      <td>1</td>\n",
       "      <td>NaN</td>\n",
       "      <td>1.0</td>\n",
       "      <td>5206.0</td>\n",
       "      <td>1</td>\n",
       "    </tr>\n",
       "    <tr>\n",
       "      <th>1</th>\n",
       "      <td>36837245</td>\n",
       "      <td>2369230</td>\n",
       "      <td>2</td>\n",
       "      <td>NaN</td>\n",
       "      <td>1.0</td>\n",
       "      <td>10170.0</td>\n",
       "      <td>1</td>\n",
       "    </tr>\n",
       "  </tbody>\n",
       "</table>\n",
       "</div>"
      ],
      "text/plain": [
       "         Id  ResultId  NumberInKim  Mark  MaxMark  ClassifierId  Partition\n",
       "0  36837244   2369230            1   NaN      1.0        5206.0          1\n",
       "1  36837245   2369230            2   NaN      1.0       10170.0          1"
      ]
     },
     "execution_count": 70,
     "metadata": {},
     "output_type": "execute_result"
    }
   ],
   "source": [
    "selfdiagnosticresultdetails.head(2)"
   ]
  },
  {
   "cell_type": "code",
   "execution_count": 69,
   "metadata": {
    "hidden": true
   },
   "outputs": [
    {
     "data": {
      "text/plain": [
       "0.799809874791518"
      ]
     },
     "execution_count": 69,
     "metadata": {},
     "output_type": "execute_result"
    }
   ],
   "source": [
    "(selfdiagnosticresultdetails['Mark'] / selfdiagnosticresultdetails['MaxMark']).mean()"
   ]
  },
  {
   "cell_type": "markdown",
   "metadata": {
    "heading_collapsed": true
   },
   "source": [
    "## selfdiagnosticresults"
   ]
  },
  {
   "cell_type": "code",
   "execution_count": 49,
   "metadata": {
    "hidden": true
   },
   "outputs": [
    {
     "data": {
      "text/html": [
       "<div>\n",
       "<style scoped>\n",
       "    .dataframe tbody tr th:only-of-type {\n",
       "        vertical-align: middle;\n",
       "    }\n",
       "\n",
       "    .dataframe tbody tr th {\n",
       "        vertical-align: top;\n",
       "    }\n",
       "\n",
       "    .dataframe thead th {\n",
       "        text-align: right;\n",
       "    }\n",
       "</style>\n",
       "<table border=\"1\" class=\"dataframe\">\n",
       "  <thead>\n",
       "    <tr style=\"text-align: right;\">\n",
       "      <th></th>\n",
       "      <th>Id</th>\n",
       "      <th>ParticipantId</th>\n",
       "      <th>StudentParallel</th>\n",
       "      <th>TestDate</th>\n",
       "      <th>Mark</th>\n",
       "      <th>MaxMark</th>\n",
       "      <th>SubjectId</th>\n",
       "      <th>Partition</th>\n",
       "    </tr>\n",
       "  </thead>\n",
       "  <tbody>\n",
       "    <tr>\n",
       "      <th>0</th>\n",
       "      <td>2369230</td>\n",
       "      <td>594F27DE-1479-476C-8CB6-A76EA1AB25C9</td>\n",
       "      <td>9</td>\n",
       "      <td>2019-09-01 00:03:20</td>\n",
       "      <td>0.0</td>\n",
       "      <td>10</td>\n",
       "      <td>27</td>\n",
       "      <td>1</td>\n",
       "    </tr>\n",
       "    <tr>\n",
       "      <th>1</th>\n",
       "      <td>2370235</td>\n",
       "      <td>C4285D8C-9B23-43C8-AECD-EC4271D48A59</td>\n",
       "      <td>10</td>\n",
       "      <td>2019-09-01 10:38:27</td>\n",
       "      <td>14.0</td>\n",
       "      <td>21</td>\n",
       "      <td>86</td>\n",
       "      <td>1</td>\n",
       "    </tr>\n",
       "  </tbody>\n",
       "</table>\n",
       "</div>"
      ],
      "text/plain": [
       "        Id                         ParticipantId  StudentParallel  \\\n",
       "0  2369230  594F27DE-1479-476C-8CB6-A76EA1AB25C9                9   \n",
       "1  2370235  C4285D8C-9B23-43C8-AECD-EC4271D48A59               10   \n",
       "\n",
       "              TestDate  Mark  MaxMark  SubjectId  Partition  \n",
       "0  2019-09-01 00:03:20   0.0       10         27          1  \n",
       "1  2019-09-01 10:38:27  14.0       21         86          1  "
      ]
     },
     "execution_count": 49,
     "metadata": {},
     "output_type": "execute_result"
    }
   ],
   "source": [
    "selfdiagnosticresults.head(2)"
   ]
  },
  {
   "cell_type": "code",
   "execution_count": 68,
   "metadata": {
    "hidden": true
   },
   "outputs": [
    {
     "data": {
      "text/plain": [
       "0.4241359919967646"
      ]
     },
     "execution_count": 68,
     "metadata": {},
     "output_type": "execute_result"
    }
   ],
   "source": [
    "(selfdiagnosticresults['Mark'] / selfdiagnosticresults['MaxMark']).mean()"
   ]
  },
  {
   "cell_type": "code",
   "execution_count": null,
   "metadata": {
    "hidden": true
   },
   "outputs": [],
   "source": []
  },
  {
   "cell_type": "code",
   "execution_count": null,
   "metadata": {
    "hidden": true
   },
   "outputs": [],
   "source": []
  },
  {
   "cell_type": "markdown",
   "metadata": {},
   "source": [
    "# Preprocessing data"
   ]
  },
  {
   "cell_type": "code",
   "execution_count": 227,
   "metadata": {},
   "outputs": [],
   "source": [
    "diagnosticresults_all = diagnosticresults.merge(diagnosticresultdetails, how='inner', on='ResultId')"
   ]
  },
  {
   "cell_type": "code",
   "execution_count": 228,
   "metadata": {
    "scrolled": false
   },
   "outputs": [
    {
     "data": {
      "text/html": [
       "<div>\n",
       "<style scoped>\n",
       "    .dataframe tbody tr th:only-of-type {\n",
       "        vertical-align: middle;\n",
       "    }\n",
       "\n",
       "    .dataframe tbody tr th {\n",
       "        vertical-align: top;\n",
       "    }\n",
       "\n",
       "    .dataframe thead th {\n",
       "        text-align: right;\n",
       "    }\n",
       "</style>\n",
       "<table border=\"1\" class=\"dataframe\">\n",
       "  <thead>\n",
       "    <tr style=\"text-align: right;\">\n",
       "      <th></th>\n",
       "      <th>ResultId</th>\n",
       "      <th>Source_x</th>\n",
       "      <th>ParticipantId</th>\n",
       "      <th>StudentParallel</th>\n",
       "      <th>TestDate</th>\n",
       "      <th>Mark_x</th>\n",
       "      <th>MaxMark_x</th>\n",
       "      <th>SubjectId</th>\n",
       "      <th>Partition_x</th>\n",
       "      <th>Id</th>\n",
       "      <th>Source_y</th>\n",
       "      <th>NumberInKim</th>\n",
       "      <th>Mark_y</th>\n",
       "      <th>MaxMark_y</th>\n",
       "      <th>ClassifierId</th>\n",
       "      <th>Partition_y</th>\n",
       "    </tr>\n",
       "  </thead>\n",
       "  <tbody>\n",
       "    <tr>\n",
       "      <th>0</th>\n",
       "      <td>187000</td>\n",
       "      <td>0</td>\n",
       "      <td>C70E4C52-34C9-4FBE-9B52-4B78AE43C2DA</td>\n",
       "      <td>11</td>\n",
       "      <td>2019-11-08 16:52:48</td>\n",
       "      <td>25.0</td>\n",
       "      <td>33</td>\n",
       "      <td>75</td>\n",
       "      <td>1</td>\n",
       "      <td>3151177</td>\n",
       "      <td>0</td>\n",
       "      <td>1</td>\n",
       "      <td>0.0</td>\n",
       "      <td>2.0</td>\n",
       "      <td>1883.0</td>\n",
       "      <td>1</td>\n",
       "    </tr>\n",
       "  </tbody>\n",
       "</table>\n",
       "</div>"
      ],
      "text/plain": [
       "   ResultId  Source_x                         ParticipantId  StudentParallel  \\\n",
       "0    187000         0  C70E4C52-34C9-4FBE-9B52-4B78AE43C2DA               11   \n",
       "\n",
       "              TestDate  Mark_x  MaxMark_x  SubjectId  Partition_x       Id  \\\n",
       "0  2019-11-08 16:52:48    25.0         33         75            1  3151177   \n",
       "\n",
       "   Source_y  NumberInKim  Mark_y  MaxMark_y  ClassifierId  Partition_y  \n",
       "0         0            1     0.0        2.0        1883.0            1  "
      ]
     },
     "execution_count": 228,
     "metadata": {},
     "output_type": "execute_result"
    }
   ],
   "source": [
    "diagnosticresults_all.head(1)"
   ]
  },
  {
   "cell_type": "code",
   "execution_count": 229,
   "metadata": {},
   "outputs": [],
   "source": [
    "diagnosticresults_all = diagnosticresults_all.drop(['ResultId', 'Source_x', 'TestDate', 'Partition_x', 'Id', 'Source_y', 'NumberInKim', 'ClassifierId', 'Partition_y'], axis=1)"
   ]
  },
  {
   "cell_type": "code",
   "execution_count": 230,
   "metadata": {},
   "outputs": [
    {
     "data": {
      "text/html": [
       "<div>\n",
       "<style scoped>\n",
       "    .dataframe tbody tr th:only-of-type {\n",
       "        vertical-align: middle;\n",
       "    }\n",
       "\n",
       "    .dataframe tbody tr th {\n",
       "        vertical-align: top;\n",
       "    }\n",
       "\n",
       "    .dataframe thead th {\n",
       "        text-align: right;\n",
       "    }\n",
       "</style>\n",
       "<table border=\"1\" class=\"dataframe\">\n",
       "  <thead>\n",
       "    <tr style=\"text-align: right;\">\n",
       "      <th></th>\n",
       "      <th>ResultId</th>\n",
       "      <th>Source</th>\n",
       "      <th>ParticipantId</th>\n",
       "      <th>StudentParallel</th>\n",
       "      <th>TestDate</th>\n",
       "      <th>Mark</th>\n",
       "      <th>MaxMark</th>\n",
       "      <th>SubjectId</th>\n",
       "      <th>Partition</th>\n",
       "    </tr>\n",
       "  </thead>\n",
       "  <tbody>\n",
       "    <tr>\n",
       "      <th>0</th>\n",
       "      <td>187000</td>\n",
       "      <td>0</td>\n",
       "      <td>C70E4C52-34C9-4FBE-9B52-4B78AE43C2DA</td>\n",
       "      <td>11</td>\n",
       "      <td>2019-11-08 16:52:48</td>\n",
       "      <td>25.0</td>\n",
       "      <td>33</td>\n",
       "      <td>75</td>\n",
       "      <td>1</td>\n",
       "    </tr>\n",
       "    <tr>\n",
       "      <th>1</th>\n",
       "      <td>239604</td>\n",
       "      <td>0</td>\n",
       "      <td>20647873-4AA8-42E3-B7FE-51DE8E0BEAF5</td>\n",
       "      <td>11</td>\n",
       "      <td>2020-03-20 15:04:34</td>\n",
       "      <td>12.0</td>\n",
       "      <td>30</td>\n",
       "      <td>77</td>\n",
       "      <td>1</td>\n",
       "    </tr>\n",
       "    <tr>\n",
       "      <th>2</th>\n",
       "      <td>239606</td>\n",
       "      <td>0</td>\n",
       "      <td>4DFEFA69-EB35-44BD-B239-6AA4DE66F866</td>\n",
       "      <td>11</td>\n",
       "      <td>2020-03-20 15:06:20</td>\n",
       "      <td>24.0</td>\n",
       "      <td>31</td>\n",
       "      <td>86</td>\n",
       "      <td>1</td>\n",
       "    </tr>\n",
       "    <tr>\n",
       "      <th>3</th>\n",
       "      <td>239611</td>\n",
       "      <td>0</td>\n",
       "      <td>B4816FC2-CAF4-47EE-8AC7-73E32767E771</td>\n",
       "      <td>11</td>\n",
       "      <td>2020-03-20 15:16:21</td>\n",
       "      <td>27.0</td>\n",
       "      <td>31</td>\n",
       "      <td>86</td>\n",
       "      <td>1</td>\n",
       "    </tr>\n",
       "    <tr>\n",
       "      <th>4</th>\n",
       "      <td>239636</td>\n",
       "      <td>0</td>\n",
       "      <td>DFCBA91A-0BE5-4EB9-899E-D0166882F392</td>\n",
       "      <td>11</td>\n",
       "      <td>2020-03-23 10:01:31</td>\n",
       "      <td>26.0</td>\n",
       "      <td>31</td>\n",
       "      <td>9</td>\n",
       "      <td>1</td>\n",
       "    </tr>\n",
       "  </tbody>\n",
       "</table>\n",
       "</div>"
      ],
      "text/plain": [
       "   ResultId  Source                         ParticipantId  StudentParallel  \\\n",
       "0    187000       0  C70E4C52-34C9-4FBE-9B52-4B78AE43C2DA               11   \n",
       "1    239604       0  20647873-4AA8-42E3-B7FE-51DE8E0BEAF5               11   \n",
       "2    239606       0  4DFEFA69-EB35-44BD-B239-6AA4DE66F866               11   \n",
       "3    239611       0  B4816FC2-CAF4-47EE-8AC7-73E32767E771               11   \n",
       "4    239636       0  DFCBA91A-0BE5-4EB9-899E-D0166882F392               11   \n",
       "\n",
       "              TestDate  Mark  MaxMark  SubjectId  Partition  \n",
       "0  2019-11-08 16:52:48  25.0       33         75          1  \n",
       "1  2020-03-20 15:04:34  12.0       30         77          1  \n",
       "2  2020-03-20 15:06:20  24.0       31         86          1  \n",
       "3  2020-03-20 15:16:21  27.0       31         86          1  \n",
       "4  2020-03-23 10:01:31  26.0       31          9          1  "
      ]
     },
     "execution_count": 230,
     "metadata": {},
     "output_type": "execute_result"
    }
   ],
   "source": [
    "diagnosticresults.head()"
   ]
  },
  {
   "cell_type": "code",
   "execution_count": null,
   "metadata": {},
   "outputs": [],
   "source": []
  },
  {
   "cell_type": "code",
   "execution_count": 231,
   "metadata": {},
   "outputs": [
    {
     "data": {
      "text/plain": [
       "((11360, 9), (50000, 8), (50000, 7))"
      ]
     },
     "execution_count": 231,
     "metadata": {},
     "output_type": "execute_result"
    }
   ],
   "source": [
    "diagnosticresults.shape, diagnosticresultdetails.shape, diagnosticresults_all.shape"
   ]
  },
  {
   "cell_type": "code",
   "execution_count": null,
   "metadata": {},
   "outputs": [],
   "source": []
  },
  {
   "cell_type": "code",
   "execution_count": null,
   "metadata": {},
   "outputs": [],
   "source": []
  },
  {
   "cell_type": "code",
   "execution_count": 247,
   "metadata": {},
   "outputs": [],
   "source": [
    "selfdiagnosticresult_all = selfdiagnosticresults.merge(selfdiagnosticresultdetails, how='inner', left_on='Id', right_on='ResultId')"
   ]
  },
  {
   "cell_type": "code",
   "execution_count": 248,
   "metadata": {
    "scrolled": true
   },
   "outputs": [
    {
     "data": {
      "text/html": [
       "<div>\n",
       "<style scoped>\n",
       "    .dataframe tbody tr th:only-of-type {\n",
       "        vertical-align: middle;\n",
       "    }\n",
       "\n",
       "    .dataframe tbody tr th {\n",
       "        vertical-align: top;\n",
       "    }\n",
       "\n",
       "    .dataframe thead th {\n",
       "        text-align: right;\n",
       "    }\n",
       "</style>\n",
       "<table border=\"1\" class=\"dataframe\">\n",
       "  <thead>\n",
       "    <tr style=\"text-align: right;\">\n",
       "      <th></th>\n",
       "      <th>Id_x</th>\n",
       "      <th>ParticipantId</th>\n",
       "      <th>StudentParallel</th>\n",
       "      <th>TestDate</th>\n",
       "      <th>Mark_x</th>\n",
       "      <th>MaxMark_x</th>\n",
       "      <th>SubjectId</th>\n",
       "      <th>Partition_x</th>\n",
       "      <th>Id_y</th>\n",
       "      <th>ResultId</th>\n",
       "      <th>NumberInKim</th>\n",
       "      <th>Mark_y</th>\n",
       "      <th>MaxMark_y</th>\n",
       "      <th>ClassifierId</th>\n",
       "      <th>Partition_y</th>\n",
       "    </tr>\n",
       "  </thead>\n",
       "  <tbody>\n",
       "    <tr>\n",
       "      <th>0</th>\n",
       "      <td>2369230</td>\n",
       "      <td>594F27DE-1479-476C-8CB6-A76EA1AB25C9</td>\n",
       "      <td>9</td>\n",
       "      <td>2019-09-01 00:03:20</td>\n",
       "      <td>0.0</td>\n",
       "      <td>10</td>\n",
       "      <td>27</td>\n",
       "      <td>1</td>\n",
       "      <td>36837244</td>\n",
       "      <td>2369230</td>\n",
       "      <td>1</td>\n",
       "      <td>NaN</td>\n",
       "      <td>1.0</td>\n",
       "      <td>5206.0</td>\n",
       "      <td>1</td>\n",
       "    </tr>\n",
       "  </tbody>\n",
       "</table>\n",
       "</div>"
      ],
      "text/plain": [
       "      Id_x                         ParticipantId  StudentParallel  \\\n",
       "0  2369230  594F27DE-1479-476C-8CB6-A76EA1AB25C9                9   \n",
       "\n",
       "              TestDate  Mark_x  MaxMark_x  SubjectId  Partition_x      Id_y  \\\n",
       "0  2019-09-01 00:03:20     0.0         10         27            1  36837244   \n",
       "\n",
       "   ResultId  NumberInKim  Mark_y  MaxMark_y  ClassifierId  Partition_y  \n",
       "0   2369230            1     NaN        1.0        5206.0            1  "
      ]
     },
     "execution_count": 248,
     "metadata": {},
     "output_type": "execute_result"
    }
   ],
   "source": [
    "selfdiagnosticresult_all.head(1)"
   ]
  },
  {
   "cell_type": "code",
   "execution_count": 249,
   "metadata": {},
   "outputs": [],
   "source": [
    "selfdiagnosticresult_all = selfdiagnosticresult_all.drop(['TestDate', 'Id_x', 'Partition_x', 'ResultId', 'Id_y', 'NumberInKim', 'ClassifierId', 'Partition_y'], axis=1)"
   ]
  },
  {
   "cell_type": "code",
   "execution_count": 250,
   "metadata": {},
   "outputs": [
    {
     "data": {
      "text/html": [
       "<div>\n",
       "<style scoped>\n",
       "    .dataframe tbody tr th:only-of-type {\n",
       "        vertical-align: middle;\n",
       "    }\n",
       "\n",
       "    .dataframe tbody tr th {\n",
       "        vertical-align: top;\n",
       "    }\n",
       "\n",
       "    .dataframe thead th {\n",
       "        text-align: right;\n",
       "    }\n",
       "</style>\n",
       "<table border=\"1\" class=\"dataframe\">\n",
       "  <thead>\n",
       "    <tr style=\"text-align: right;\">\n",
       "      <th></th>\n",
       "      <th>ParticipantId</th>\n",
       "      <th>StudentParallel</th>\n",
       "      <th>Mark_x</th>\n",
       "      <th>MaxMark_x</th>\n",
       "      <th>SubjectId</th>\n",
       "      <th>Mark_y</th>\n",
       "      <th>MaxMark_y</th>\n",
       "    </tr>\n",
       "  </thead>\n",
       "  <tbody>\n",
       "    <tr>\n",
       "      <th>0</th>\n",
       "      <td>594F27DE-1479-476C-8CB6-A76EA1AB25C9</td>\n",
       "      <td>9</td>\n",
       "      <td>0.0</td>\n",
       "      <td>10</td>\n",
       "      <td>27</td>\n",
       "      <td>NaN</td>\n",
       "      <td>1.0</td>\n",
       "    </tr>\n",
       "  </tbody>\n",
       "</table>\n",
       "</div>"
      ],
      "text/plain": [
       "                          ParticipantId  StudentParallel  Mark_x  MaxMark_x  \\\n",
       "0  594F27DE-1479-476C-8CB6-A76EA1AB25C9                9     0.0         10   \n",
       "\n",
       "   SubjectId  Mark_y  MaxMark_y  \n",
       "0         27     NaN        1.0  "
      ]
     },
     "execution_count": 250,
     "metadata": {},
     "output_type": "execute_result"
    }
   ],
   "source": [
    "selfdiagnosticresult_all.head(1)"
   ]
  },
  {
   "cell_type": "code",
   "execution_count": 255,
   "metadata": {},
   "outputs": [],
   "source": [
    "selfdiagnosticresult_all['Mark_x'] = selfdiagnosticresult_all['Mark_x'].fillna(selfdiagnosticresult_all['Mark_x'].mean())\n",
    "selfdiagnosticresult_all['Mark_y'] = selfdiagnosticresult_all['Mark_y'].fillna(selfdiagnosticresult_all['Mark_y'].mean())"
   ]
  },
  {
   "cell_type": "code",
   "execution_count": 256,
   "metadata": {},
   "outputs": [
    {
     "data": {
      "text/plain": [
       "ParticipantId      0.0\n",
       "StudentParallel    0.0\n",
       "Mark_x             0.0\n",
       "MaxMark_x          0.0\n",
       "SubjectId          0.0\n",
       "Mark_y             0.0\n",
       "MaxMark_y          0.0\n",
       "dtype: float64"
      ]
     },
     "execution_count": 256,
     "metadata": {},
     "output_type": "execute_result"
    }
   ],
   "source": [
    "selfdiagnosticresult_all.isnull().mean()"
   ]
  },
  {
   "cell_type": "code",
   "execution_count": 257,
   "metadata": {},
   "outputs": [
    {
     "data": {
      "text/plain": [
       "((21438, 8), (529358, 7), (529358, 7))"
      ]
     },
     "execution_count": 257,
     "metadata": {},
     "output_type": "execute_result"
    }
   ],
   "source": [
    "selfdiagnosticresults.shape, selfdiagnosticresultdetails.shape, selfdiagnosticresult_all.shape"
   ]
  },
  {
   "cell_type": "code",
   "execution_count": 258,
   "metadata": {},
   "outputs": [],
   "source": [
    "selfdiagnosticresult_all = selfdiagnosticresult_all.rename(columns={'Mark_x': 'Marks_x', 'MaxMark_x': 'MaxMarks_x'})"
   ]
  },
  {
   "cell_type": "code",
   "execution_count": null,
   "metadata": {},
   "outputs": [],
   "source": []
  },
  {
   "cell_type": "code",
   "execution_count": null,
   "metadata": {},
   "outputs": [],
   "source": []
  },
  {
   "cell_type": "code",
   "execution_count": 259,
   "metadata": {},
   "outputs": [],
   "source": [
    "diagnosticresults_all['pr_x'] = diagnosticresults_all['Mark_x'] / diagnosticresults_all['MaxMark_x']\n",
    "diagnosticresults_all['pr_y'] = diagnosticresults_all['Mark_y'] / diagnosticresults_all['MaxMark_y']\n",
    "selfdiagnosticresult_all['pr_z'] = selfdiagnosticresult_all['Marks_x'] / selfdiagnosticresult_all['MaxMarks_x']"
   ]
  },
  {
   "cell_type": "code",
   "execution_count": 263,
   "metadata": {},
   "outputs": [],
   "source": [
    "egeresult = egeresults.drop(['Id', 'DateExam', 'Partition'], axis=1)\\\n",
    "            .merge(medalistresults.drop(['Id', 'Partition'], axis=1), how='left', on='ParticipantId')\n",
    "\n",
    "egeresult['Type'] = egeresult['Type'].fillna(-1)\n",
    "egeresult = egeresult.merge(diagnosticresults_all, how='left', on='ParticipantId')\n",
    "egeresult = egeresult.merge(selfdiagnosticresult_all.drop(['Mark_y', 'MaxMark_y'], axis=1), how='left', on='ParticipantId')"
   ]
  },
  {
   "cell_type": "code",
   "execution_count": null,
   "metadata": {},
   "outputs": [],
   "source": []
  },
  {
   "cell_type": "code",
   "execution_count": 264,
   "metadata": {},
   "outputs": [
    {
     "data": {
      "text/plain": [
       "((38600, 6), (8683419, 17))"
      ]
     },
     "execution_count": 264,
     "metadata": {},
     "output_type": "execute_result"
    }
   ],
   "source": [
    "egeresults.shape, egeresult.shape"
   ]
  },
  {
   "cell_type": "code",
   "execution_count": 265,
   "metadata": {},
   "outputs": [
    {
     "data": {
      "text/html": [
       "<div>\n",
       "<style scoped>\n",
       "    .dataframe tbody tr th:only-of-type {\n",
       "        vertical-align: middle;\n",
       "    }\n",
       "\n",
       "    .dataframe tbody tr th {\n",
       "        vertical-align: top;\n",
       "    }\n",
       "\n",
       "    .dataframe thead th {\n",
       "        text-align: right;\n",
       "    }\n",
       "</style>\n",
       "<table border=\"1\" class=\"dataframe\">\n",
       "  <thead>\n",
       "    <tr style=\"text-align: right;\">\n",
       "      <th></th>\n",
       "      <th>ParticipantId</th>\n",
       "      <th>MarkPercent</th>\n",
       "      <th>SubjectId_x</th>\n",
       "      <th>Type</th>\n",
       "      <th>StudentParallel_x</th>\n",
       "      <th>Mark_x</th>\n",
       "      <th>MaxMark_x</th>\n",
       "      <th>SubjectId_y</th>\n",
       "      <th>Mark_y</th>\n",
       "      <th>MaxMark_y</th>\n",
       "      <th>pr_x</th>\n",
       "      <th>pr_y</th>\n",
       "      <th>StudentParallel_y</th>\n",
       "      <th>Marks_x</th>\n",
       "      <th>MaxMarks_x</th>\n",
       "      <th>SubjectId</th>\n",
       "      <th>pr_z</th>\n",
       "    </tr>\n",
       "  </thead>\n",
       "  <tbody>\n",
       "    <tr>\n",
       "      <th>0</th>\n",
       "      <td>74A04FC2-A13B-468F-B4FF-08D4A3DDCEEA</td>\n",
       "      <td>75</td>\n",
       "      <td>86</td>\n",
       "      <td>-1.0</td>\n",
       "      <td>NaN</td>\n",
       "      <td>NaN</td>\n",
       "      <td>NaN</td>\n",
       "      <td>NaN</td>\n",
       "      <td>NaN</td>\n",
       "      <td>NaN</td>\n",
       "      <td>NaN</td>\n",
       "      <td>NaN</td>\n",
       "      <td>NaN</td>\n",
       "      <td>NaN</td>\n",
       "      <td>NaN</td>\n",
       "      <td>NaN</td>\n",
       "      <td>NaN</td>\n",
       "    </tr>\n",
       "    <tr>\n",
       "      <th>1</th>\n",
       "      <td>4C5F3B22-6439-4255-83A3-9C2573607F96</td>\n",
       "      <td>77</td>\n",
       "      <td>9</td>\n",
       "      <td>-1.0</td>\n",
       "      <td>NaN</td>\n",
       "      <td>NaN</td>\n",
       "      <td>NaN</td>\n",
       "      <td>NaN</td>\n",
       "      <td>NaN</td>\n",
       "      <td>NaN</td>\n",
       "      <td>NaN</td>\n",
       "      <td>NaN</td>\n",
       "      <td>NaN</td>\n",
       "      <td>NaN</td>\n",
       "      <td>NaN</td>\n",
       "      <td>NaN</td>\n",
       "      <td>NaN</td>\n",
       "    </tr>\n",
       "  </tbody>\n",
       "</table>\n",
       "</div>"
      ],
      "text/plain": [
       "                          ParticipantId  MarkPercent  SubjectId_x  Type  \\\n",
       "0  74A04FC2-A13B-468F-B4FF-08D4A3DDCEEA           75           86  -1.0   \n",
       "1  4C5F3B22-6439-4255-83A3-9C2573607F96           77            9  -1.0   \n",
       "\n",
       "   StudentParallel_x  Mark_x  MaxMark_x  SubjectId_y  Mark_y  MaxMark_y  pr_x  \\\n",
       "0                NaN     NaN        NaN          NaN     NaN        NaN   NaN   \n",
       "1                NaN     NaN        NaN          NaN     NaN        NaN   NaN   \n",
       "\n",
       "   pr_y  StudentParallel_y  Marks_x  MaxMarks_x  SubjectId  pr_z  \n",
       "0   NaN                NaN      NaN         NaN        NaN   NaN  \n",
       "1   NaN                NaN      NaN         NaN        NaN   NaN  "
      ]
     },
     "execution_count": 265,
     "metadata": {},
     "output_type": "execute_result"
    }
   ],
   "source": [
    "egeresult.head(2)"
   ]
  },
  {
   "cell_type": "code",
   "execution_count": 267,
   "metadata": {},
   "outputs": [
    {
     "data": {
      "text/plain": [
       "ParticipantId        0.000000\n",
       "MarkPercent          0.000000\n",
       "SubjectId_x          0.000000\n",
       "Type                 0.000000\n",
       "StudentParallel_x    0.188683\n",
       "Mark_x               0.188683\n",
       "MaxMark_x            0.188683\n",
       "SubjectId_y          0.188683\n",
       "Mark_y               0.251283\n",
       "MaxMark_y            0.188683\n",
       "pr_x                 0.188683\n",
       "pr_y                 0.251283\n",
       "StudentParallel_y    0.019187\n",
       "Marks_x              0.019187\n",
       "MaxMarks_x           0.019187\n",
       "SubjectId            0.019187\n",
       "pr_z                 0.019187\n",
       "dtype: float64"
      ]
     },
     "execution_count": 267,
     "metadata": {},
     "output_type": "execute_result"
    }
   ],
   "source": [
    "egeresult.isnull().mean()"
   ]
  },
  {
   "cell_type": "code",
   "execution_count": 269,
   "metadata": {},
   "outputs": [],
   "source": [
    "egeresult = egeresult.fillna(0)"
   ]
  },
  {
   "cell_type": "code",
   "execution_count": 270,
   "metadata": {
    "scrolled": false
   },
   "outputs": [
    {
     "data": {
      "text/html": [
       "<div>\n",
       "<style scoped>\n",
       "    .dataframe tbody tr th:only-of-type {\n",
       "        vertical-align: middle;\n",
       "    }\n",
       "\n",
       "    .dataframe tbody tr th {\n",
       "        vertical-align: top;\n",
       "    }\n",
       "\n",
       "    .dataframe thead th {\n",
       "        text-align: right;\n",
       "    }\n",
       "</style>\n",
       "<table border=\"1\" class=\"dataframe\">\n",
       "  <thead>\n",
       "    <tr style=\"text-align: right;\">\n",
       "      <th></th>\n",
       "      <th>ParticipantId</th>\n",
       "      <th>MarkPercent</th>\n",
       "      <th>SubjectId_x</th>\n",
       "      <th>Type</th>\n",
       "      <th>StudentParallel_x</th>\n",
       "      <th>Mark_x</th>\n",
       "      <th>MaxMark_x</th>\n",
       "      <th>SubjectId_y</th>\n",
       "      <th>Mark_y</th>\n",
       "      <th>MaxMark_y</th>\n",
       "      <th>pr_x</th>\n",
       "      <th>pr_y</th>\n",
       "      <th>StudentParallel_y</th>\n",
       "      <th>Marks_x</th>\n",
       "      <th>MaxMarks_x</th>\n",
       "      <th>SubjectId</th>\n",
       "      <th>pr_z</th>\n",
       "    </tr>\n",
       "  </thead>\n",
       "  <tbody>\n",
       "    <tr>\n",
       "      <th>0</th>\n",
       "      <td>74A04FC2-A13B-468F-B4FF-08D4A3DDCEEA</td>\n",
       "      <td>75</td>\n",
       "      <td>86</td>\n",
       "      <td>-1.0</td>\n",
       "      <td>0.0</td>\n",
       "      <td>0.0</td>\n",
       "      <td>0.0</td>\n",
       "      <td>0.0</td>\n",
       "      <td>0.0</td>\n",
       "      <td>0.0</td>\n",
       "      <td>0.0</td>\n",
       "      <td>0.0</td>\n",
       "      <td>0.0</td>\n",
       "      <td>0.0</td>\n",
       "      <td>0.0</td>\n",
       "      <td>0.0</td>\n",
       "      <td>0.0</td>\n",
       "    </tr>\n",
       "    <tr>\n",
       "      <th>1</th>\n",
       "      <td>4C5F3B22-6439-4255-83A3-9C2573607F96</td>\n",
       "      <td>77</td>\n",
       "      <td>9</td>\n",
       "      <td>-1.0</td>\n",
       "      <td>0.0</td>\n",
       "      <td>0.0</td>\n",
       "      <td>0.0</td>\n",
       "      <td>0.0</td>\n",
       "      <td>0.0</td>\n",
       "      <td>0.0</td>\n",
       "      <td>0.0</td>\n",
       "      <td>0.0</td>\n",
       "      <td>0.0</td>\n",
       "      <td>0.0</td>\n",
       "      <td>0.0</td>\n",
       "      <td>0.0</td>\n",
       "      <td>0.0</td>\n",
       "    </tr>\n",
       "  </tbody>\n",
       "</table>\n",
       "</div>"
      ],
      "text/plain": [
       "                          ParticipantId  MarkPercent  SubjectId_x  Type  \\\n",
       "0  74A04FC2-A13B-468F-B4FF-08D4A3DDCEEA           75           86  -1.0   \n",
       "1  4C5F3B22-6439-4255-83A3-9C2573607F96           77            9  -1.0   \n",
       "\n",
       "   StudentParallel_x  Mark_x  MaxMark_x  SubjectId_y  Mark_y  MaxMark_y  pr_x  \\\n",
       "0                0.0     0.0        0.0          0.0     0.0        0.0   0.0   \n",
       "1                0.0     0.0        0.0          0.0     0.0        0.0   0.0   \n",
       "\n",
       "   pr_y  StudentParallel_y  Marks_x  MaxMarks_x  SubjectId  pr_z  \n",
       "0   0.0                0.0      0.0         0.0        0.0   0.0  \n",
       "1   0.0                0.0      0.0         0.0        0.0   0.0  "
      ]
     },
     "execution_count": 270,
     "metadata": {},
     "output_type": "execute_result"
    }
   ],
   "source": [
    "egeresult.head(2)"
   ]
  },
  {
   "cell_type": "code",
   "execution_count": 178,
   "metadata": {},
   "outputs": [
    {
     "data": {
      "text/plain": [
       "Index(['ParticipantId', 'MarkPercent', 'SubjectId', 'Type'], dtype='object')"
      ]
     },
     "execution_count": 178,
     "metadata": {},
     "output_type": "execute_result"
    }
   ],
   "source": [
    "egeresult.columns"
   ]
  },
  {
   "cell_type": "code",
   "execution_count": 726,
   "metadata": {},
   "outputs": [],
   "source": [
    "egeresult['tr'] = egeresult['SubjectId_x'] == egeresult['SubjectId_y']"
   ]
  },
  {
   "cell_type": "code",
   "execution_count": 272,
   "metadata": {},
   "outputs": [],
   "source": [
    "X = egeresult[[\n",
    "    'SubjectId_x',\n",
    "    'Type',\n",
    "    'pr_x',\n",
    "    'pr_y',\n",
    "    'pr_z',\n",
    "    'SubjectId'\n",
    "    \n",
    "]]\n",
    "y = egeresult['MarkPercent']\n",
    "\n",
    "# X = egeresult.drop(['ParticipantId', 'MarkPercent'], axis=1)\n",
    "# y = egeresult['MarkPercent']"
   ]
  },
  {
   "cell_type": "code",
   "execution_count": 273,
   "metadata": {},
   "outputs": [
    {
     "data": {
      "text/plain": [
       "<AxesSubplot:>"
      ]
     },
     "execution_count": 273,
     "metadata": {},
     "output_type": "execute_result"
    },
    {
     "data": {
      "image/png": "[encoded data removed]",
      "text/plain": [
       "<Figure size 432x288 with 1 Axes>"
      ]
     },
     "metadata": {
      "image/png": {
       "height": 262,
       "width": 380
      },
      "needs_background": "light"
     },
     "output_type": "display_data"
    }
   ],
   "source": [
    "egeresult['MarkPercent'].hist()"
   ]
  },
  {
   "cell_type": "code",
   "execution_count": 274,
   "metadata": {},
   "outputs": [],
   "source": [
    "X_train, X_test, y_train, y_test = train_test_split(X, y, test_size=0.2)"
   ]
  },
  {
   "cell_type": "code",
   "execution_count": 276,
   "metadata": {
    "scrolled": true
   },
   "outputs": [],
   "source": [
    "lgbm = LGBMRegressor().fit(X_train, y_train)"
   ]
  },
  {
   "cell_type": "code",
   "execution_count": null,
   "metadata": {},
   "outputs": [],
   "source": []
  },
  {
   "cell_type": "code",
   "execution_count": 277,
   "metadata": {},
   "outputs": [
    {
     "data": {
      "text/plain": [
       "10.150600375086588"
      ]
     },
     "execution_count": 277,
     "metadata": {},
     "output_type": "execute_result"
    }
   ],
   "source": [
    "mean_squared_error(y_test, lgbm.predict(X_test), squared=False)"
   ]
  },
  {
   "cell_type": "code",
   "execution_count": 194,
   "metadata": {
    "scrolled": true
   },
   "outputs": [
    {
     "data": {
      "text/plain": [
       "<AxesSubplot:title={'center':'Feature importance'}, xlabel='Feature importance', ylabel='Features'>"
      ]
     },
     "execution_count": 194,
     "metadata": {},
     "output_type": "execute_result"
    },
    {
     "data": {
      "image/png": "[encoded data removed]",
      "text/plain": [
       "<Figure size 432x288 with 1 Axes>"
      ]
     },
     "metadata": {
      "image/png": {
       "height": 281,
       "width": 432
      },
      "needs_background": "light"
     },
     "output_type": "display_data"
    }
   ],
   "source": [
    "lightgbm.plot_importance(lgbm)"
   ]
  },
  {
   "cell_type": "code",
   "execution_count": null,
   "metadata": {},
   "outputs": [],
   "source": []
  },
  {
   "cell_type": "code",
   "execution_count": 293,
   "metadata": {
    "scrolled": true
   },
   "outputs": [
    {
     "name": "stdout",
     "output_type": "stream",
     "text": [
      "15.218138950552907\n"
     ]
    }
   ],
   "source": [
    "\n",
    "\n",
    "kf = KFold(n_splits=5)\n",
    "\n",
    "rmse = []\n",
    "\n",
    "X = X.to_numpy()\n",
    "y = y.to_numpy().reshape(-1, 1)\n",
    "\n",
    "for train_index, test_index in kf.split(X):\n",
    "    lgbm = LGBMRegressor().fit(X[train_index], y[train_index])\n",
    "    pred = lgbm.predict(X[test_index])\n",
    "    \n",
    "    m = mean_squared_error(y[test_index], pred, squared=False)\n",
    "    rmse.append(m)\n",
    "    \n",
    "print(np.mean(rmse))"
   ]
  },
  {
   "cell_type": "code",
   "execution_count": 196,
   "metadata": {},
   "outputs": [
    {
     "data": {
      "text/plain": [
       "[17.46164954495491,\n",
       " 17.648867058355034,\n",
       " 17.12577376434365,\n",
       " 17.22678841805763,\n",
       " 17.55691679874758]"
      ]
     },
     "execution_count": 196,
     "metadata": {},
     "output_type": "execute_result"
    }
   ],
   "source": [
    "rmse"
   ]
  },
  {
   "cell_type": "code",
   "execution_count": 197,
   "metadata": {},
   "outputs": [
    {
     "data": {
      "text/plain": [
       "(38735, 2)"
      ]
     },
     "execution_count": 197,
     "metadata": {},
     "output_type": "execute_result"
    }
   ],
   "source": [
    "X.shape"
   ]
  },
  {
   "cell_type": "markdown",
   "metadata": {
    "heading_collapsed": true
   },
   "source": [
    "## NN"
   ]
  },
  {
   "cell_type": "code",
   "execution_count": null,
   "metadata": {
    "hidden": true
   },
   "outputs": [],
   "source": []
  },
  {
   "cell_type": "code",
   "execution_count": 683,
   "metadata": {
    "hidden": true
   },
   "outputs": [],
   "source": [
    "X = egeresult[['SubjectId_x', 'Type', 'Mark_y', 'MaxMark_y', 'StudentParallel', 'pr', 'Mark_x', 'MaxMark_x']]\n",
    "y = egeresult['MarkPercent']\n",
    "\n",
    "x_loader = DataLoader(X.to_numpy(), batch_size=500)\n",
    "y_loader = DataLoader(y.to_numpy().reshape(-1, 1), batch_size=500)"
   ]
  },
  {
   "cell_type": "code",
   "execution_count": null,
   "metadata": {
    "hidden": true
   },
   "outputs": [],
   "source": []
  },
  {
   "cell_type": "code",
   "execution_count": 684,
   "metadata": {
    "hidden": true
   },
   "outputs": [],
   "source": [
    "class NN(nn.Module):\n",
    "    def __init__(self):\n",
    "        super(NN, self).__init__()\n",
    "        \n",
    "#         self.lstm1 = nn.LSTMCell(9, 9)\n",
    "#         self.batch_norm1 = nn.BatchNorm1d(7)\n",
    "        \n",
    "        self.fc1_1 = nn.Linear(8, 300)\n",
    "        self.fc1_2 = nn.Linear(300, 100)\n",
    "        self.fc1_3 = nn.Linear(100, 1)\n",
    "        \n",
    "#         self.batch_norm2 = nn.BatchNorm1d(17)\n",
    "\n",
    "#         self.fc2_1 = nn.Linear(17, 100)\n",
    "#         self.fc2_2 = nn.Linear(100, 200)\n",
    "#         self.fc2_3 = nn.Linear(200, 20)\n",
    "        \n",
    "#         self.batch_norm3 = nn.BatchNorm1d(27)\n",
    "        \n",
    "#         self.fc3_1 = nn.Linear(27, 100)\n",
    "#         self.fc3_2 = nn.Linear(100, 200)\n",
    "#         self.fc3_3 = nn.Linear(200, 20)\n",
    "        \n",
    "#         self.out2_1 = nn.Linear(20, 1)\n",
    "\n",
    "\n",
    "        self.dropout = nn.Dropout(p=0.2)\n",
    "    def forward(self, x):\n",
    "        \n",
    "#         x = self.batch_norm1(x)\n",
    "        \n",
    "        x1 = x\n",
    "    \n",
    "        \n",
    "        x = F.relu(self.fc1_1(x))\n",
    "        x = self.dropout(F.relu(self.fc1_2(x))) \n",
    "        x = self.dropout(F.relu(self.fc1_3(x)))\n",
    "        \n",
    "# #         x = self.out1_1(x)\n",
    "\n",
    "#         x = torch.cat((x, x1), dim=1)\n",
    "            \n",
    "# #         x = self.batch_norm2(x)\n",
    "        \n",
    "#         x = F.relu(self.fc2_1(x))\n",
    "#         x = self.dropout(F.relu(self.fc2_2(x))) \n",
    "#         x = self.dropout(F.relu(self.fc2_3(x)))\n",
    "        \n",
    "#         x = torch.cat((x, x1), dim=1)\n",
    "        \n",
    "# #         x = self.batch_norm3(x)\n",
    "        \n",
    "#         x = F.relu(self.fc3_1(x))\n",
    "#         x = self.dropout(F.relu(self.fc3_2(x))) \n",
    "#         x = self.dropout(F.relu(self.fc3_3(x)))\n",
    "        \n",
    "#         x = self.out2_1(x)\n",
    "        \n",
    "        return x"
   ]
  },
  {
   "cell_type": "code",
   "execution_count": 685,
   "metadata": {
    "hidden": true
   },
   "outputs": [],
   "source": [
    "model = NN()"
   ]
  },
  {
   "cell_type": "code",
   "execution_count": 686,
   "metadata": {
    "hidden": true
   },
   "outputs": [],
   "source": [
    "for i, j in zip(x_loader, y_loader):\n",
    "    break"
   ]
  },
  {
   "cell_type": "code",
   "execution_count": 687,
   "metadata": {
    "hidden": true
   },
   "outputs": [],
   "source": [
    "# model.forward(i.float())"
   ]
  },
  {
   "cell_type": "code",
   "execution_count": 688,
   "metadata": {
    "hidden": true
   },
   "outputs": [],
   "source": [
    "losses = []\n",
    "accuracy = []\n",
    "r2_sc = []"
   ]
  },
  {
   "cell_type": "code",
   "execution_count": 689,
   "metadata": {
    "hidden": true
   },
   "outputs": [],
   "source": [
    "epochs = 5\n",
    "learning_rate = 1e-3\n",
    "\n",
    "optimizer = torch.optim.Adam(model.parameters(), lr=learning_rate)\n",
    "loss_fn = torch.nn.MSELoss()"
   ]
  },
  {
   "cell_type": "code",
   "execution_count": 690,
   "metadata": {
    "hidden": true,
    "scrolled": true
   },
   "outputs": [
    {
     "data": {
      "application/vnd.jupyter.widget-view+json": {
       "model_id": "f2f9552de2864038aa34af3d0360e350",
       "version_major": 2,
       "version_minor": 0
      },
      "text/plain": [
       "HBox(children=(HTML(value=''), FloatProgress(value=0.0, max=5.0), HTML(value='')))"
      ]
     },
     "metadata": {},
     "output_type": "display_data"
    },
    {
     "name": "stdout",
     "output_type": "stream",
     "text": [
      "epoch: 1, step: 50, loss: 1952.4854736328125\n",
      "epoch: 1, step: 100, loss: 1523.66845703125\n",
      "epoch: 1, step: 150, loss: 1427.1075439453125\n",
      "epoch: 1, step: 200, loss: 1337.5267333984375\n",
      "epoch: 1, step: 250, loss: 1386.139404296875\n",
      "epoch: 1, step: 300, loss: 1371.727783203125\n",
      "epoch: 1, step: 350, loss: 1335.737060546875\n",
      "epoch: 1, step: 400, loss: 1348.7962646484375\n",
      "epoch: 2, step: 50, loss: 1401.9425048828125\n",
      "epoch: 2, step: 100, loss: 1393.7952880859375\n",
      "epoch: 2, step: 150, loss: 1337.31982421875\n",
      "epoch: 2, step: 200, loss: 1330.1717529296875\n",
      "epoch: 2, step: 250, loss: 1348.54638671875\n",
      "epoch: 2, step: 300, loss: 1341.5784912109375\n",
      "epoch: 2, step: 350, loss: 1360.8511962890625\n",
      "epoch: 2, step: 400, loss: 1339.6170654296875\n",
      "epoch: 3, step: 50, loss: 1350.7236328125\n",
      "epoch: 3, step: 100, loss: 1344.76025390625\n",
      "epoch: 3, step: 150, loss: 1353.857177734375\n",
      "\n"
     ]
    },
    {
     "ename": "KeyboardInterrupt",
     "evalue": "",
     "output_type": "error",
     "traceback": [
      "\u001b[1;31m---------------------------------------------------------------------------\u001b[0m",
      "\u001b[1;31mKeyboardInterrupt\u001b[0m                         Traceback (most recent call last)",
      "\u001b[1;32m<ipython-input-690-321477a0dae6>\u001b[0m in \u001b[0;36m<module>\u001b[1;34m\u001b[0m\n\u001b[0;32m     10\u001b[0m         \u001b[0moptimizer\u001b[0m\u001b[1;33m.\u001b[0m\u001b[0mzero_grad\u001b[0m\u001b[1;33m(\u001b[0m\u001b[1;33m)\u001b[0m\u001b[1;33m\u001b[0m\u001b[1;33m\u001b[0m\u001b[0m\n\u001b[0;32m     11\u001b[0m \u001b[1;33m\u001b[0m\u001b[0m\n\u001b[1;32m---> 12\u001b[1;33m         \u001b[0mpred\u001b[0m \u001b[1;33m=\u001b[0m \u001b[0mmodel\u001b[0m\u001b[1;33m.\u001b[0m\u001b[0mforward\u001b[0m\u001b[1;33m(\u001b[0m\u001b[0mx\u001b[0m\u001b[1;33m.\u001b[0m\u001b[0mfloat\u001b[0m\u001b[1;33m(\u001b[0m\u001b[1;33m)\u001b[0m\u001b[1;33m)\u001b[0m\u001b[1;33m\u001b[0m\u001b[1;33m\u001b[0m\u001b[0m\n\u001b[0m\u001b[0;32m     13\u001b[0m \u001b[1;31m#         print(pred)\u001b[0m\u001b[1;33m\u001b[0m\u001b[1;33m\u001b[0m\u001b[1;33m\u001b[0m\u001b[0m\n\u001b[0;32m     14\u001b[0m         \u001b[0mloss\u001b[0m \u001b[1;33m=\u001b[0m \u001b[0mloss_fn\u001b[0m\u001b[1;33m(\u001b[0m\u001b[0mpred\u001b[0m\u001b[1;33m,\u001b[0m \u001b[0my\u001b[0m\u001b[1;33m.\u001b[0m\u001b[0mfloat\u001b[0m\u001b[1;33m(\u001b[0m\u001b[1;33m)\u001b[0m\u001b[1;33m)\u001b[0m\u001b[1;33m\u001b[0m\u001b[1;33m\u001b[0m\u001b[0m\n",
      "\u001b[1;32m<ipython-input-684-bdea3f151ce8>\u001b[0m in \u001b[0;36mforward\u001b[1;34m(self, x)\u001b[0m\n\u001b[0;32m     34\u001b[0m \u001b[1;33m\u001b[0m\u001b[0m\n\u001b[0;32m     35\u001b[0m         \u001b[0mx\u001b[0m \u001b[1;33m=\u001b[0m \u001b[0mF\u001b[0m\u001b[1;33m.\u001b[0m\u001b[0mrelu\u001b[0m\u001b[1;33m(\u001b[0m\u001b[0mself\u001b[0m\u001b[1;33m.\u001b[0m\u001b[0mfc1_1\u001b[0m\u001b[1;33m(\u001b[0m\u001b[0mx\u001b[0m\u001b[1;33m)\u001b[0m\u001b[1;33m)\u001b[0m\u001b[1;33m\u001b[0m\u001b[1;33m\u001b[0m\u001b[0m\n\u001b[1;32m---> 36\u001b[1;33m         \u001b[0mx\u001b[0m \u001b[1;33m=\u001b[0m \u001b[0mself\u001b[0m\u001b[1;33m.\u001b[0m\u001b[0mdropout\u001b[0m\u001b[1;33m(\u001b[0m\u001b[0mF\u001b[0m\u001b[1;33m.\u001b[0m\u001b[0mrelu\u001b[0m\u001b[1;33m(\u001b[0m\u001b[0mself\u001b[0m\u001b[1;33m.\u001b[0m\u001b[0mfc1_2\u001b[0m\u001b[1;33m(\u001b[0m\u001b[0mx\u001b[0m\u001b[1;33m)\u001b[0m\u001b[1;33m)\u001b[0m\u001b[1;33m)\u001b[0m\u001b[1;33m\u001b[0m\u001b[1;33m\u001b[0m\u001b[0m\n\u001b[0m\u001b[0;32m     37\u001b[0m         \u001b[0mx\u001b[0m \u001b[1;33m=\u001b[0m \u001b[0mself\u001b[0m\u001b[1;33m.\u001b[0m\u001b[0mdropout\u001b[0m\u001b[1;33m(\u001b[0m\u001b[0mF\u001b[0m\u001b[1;33m.\u001b[0m\u001b[0mrelu\u001b[0m\u001b[1;33m(\u001b[0m\u001b[0mself\u001b[0m\u001b[1;33m.\u001b[0m\u001b[0mfc1_3\u001b[0m\u001b[1;33m(\u001b[0m\u001b[0mx\u001b[0m\u001b[1;33m)\u001b[0m\u001b[1;33m)\u001b[0m\u001b[1;33m)\u001b[0m\u001b[1;33m\u001b[0m\u001b[1;33m\u001b[0m\u001b[0m\n\u001b[0;32m     38\u001b[0m \u001b[1;33m\u001b[0m\u001b[0m\n",
      "\u001b[1;32md:\\python3.7\\lib\\site-packages\\torch\\nn\\modules\\module.py\u001b[0m in \u001b[0;36m_call_impl\u001b[1;34m(self, *input, **kwargs)\u001b[0m\n\u001b[0;32m    725\u001b[0m             \u001b[0mresult\u001b[0m \u001b[1;33m=\u001b[0m \u001b[0mself\u001b[0m\u001b[1;33m.\u001b[0m\u001b[0m_slow_forward\u001b[0m\u001b[1;33m(\u001b[0m\u001b[1;33m*\u001b[0m\u001b[0minput\u001b[0m\u001b[1;33m,\u001b[0m \u001b[1;33m**\u001b[0m\u001b[0mkwargs\u001b[0m\u001b[1;33m)\u001b[0m\u001b[1;33m\u001b[0m\u001b[1;33m\u001b[0m\u001b[0m\n\u001b[0;32m    726\u001b[0m         \u001b[1;32melse\u001b[0m\u001b[1;33m:\u001b[0m\u001b[1;33m\u001b[0m\u001b[1;33m\u001b[0m\u001b[0m\n\u001b[1;32m--> 727\u001b[1;33m             \u001b[0mresult\u001b[0m \u001b[1;33m=\u001b[0m \u001b[0mself\u001b[0m\u001b[1;33m.\u001b[0m\u001b[0mforward\u001b[0m\u001b[1;33m(\u001b[0m\u001b[1;33m*\u001b[0m\u001b[0minput\u001b[0m\u001b[1;33m,\u001b[0m \u001b[1;33m**\u001b[0m\u001b[0mkwargs\u001b[0m\u001b[1;33m)\u001b[0m\u001b[1;33m\u001b[0m\u001b[1;33m\u001b[0m\u001b[0m\n\u001b[0m\u001b[0;32m    728\u001b[0m         for hook in itertools.chain(\n\u001b[0;32m    729\u001b[0m                 \u001b[0m_global_forward_hooks\u001b[0m\u001b[1;33m.\u001b[0m\u001b[0mvalues\u001b[0m\u001b[1;33m(\u001b[0m\u001b[1;33m)\u001b[0m\u001b[1;33m,\u001b[0m\u001b[1;33m\u001b[0m\u001b[1;33m\u001b[0m\u001b[0m\n",
      "\u001b[1;32md:\\python3.7\\lib\\site-packages\\torch\\nn\\modules\\linear.py\u001b[0m in \u001b[0;36mforward\u001b[1;34m(self, input)\u001b[0m\n\u001b[0;32m     91\u001b[0m \u001b[1;33m\u001b[0m\u001b[0m\n\u001b[0;32m     92\u001b[0m     \u001b[1;32mdef\u001b[0m \u001b[0mforward\u001b[0m\u001b[1;33m(\u001b[0m\u001b[0mself\u001b[0m\u001b[1;33m,\u001b[0m \u001b[0minput\u001b[0m\u001b[1;33m:\u001b[0m \u001b[0mTensor\u001b[0m\u001b[1;33m)\u001b[0m \u001b[1;33m->\u001b[0m \u001b[0mTensor\u001b[0m\u001b[1;33m:\u001b[0m\u001b[1;33m\u001b[0m\u001b[1;33m\u001b[0m\u001b[0m\n\u001b[1;32m---> 93\u001b[1;33m         \u001b[1;32mreturn\u001b[0m \u001b[0mF\u001b[0m\u001b[1;33m.\u001b[0m\u001b[0mlinear\u001b[0m\u001b[1;33m(\u001b[0m\u001b[0minput\u001b[0m\u001b[1;33m,\u001b[0m \u001b[0mself\u001b[0m\u001b[1;33m.\u001b[0m\u001b[0mweight\u001b[0m\u001b[1;33m,\u001b[0m \u001b[0mself\u001b[0m\u001b[1;33m.\u001b[0m\u001b[0mbias\u001b[0m\u001b[1;33m)\u001b[0m\u001b[1;33m\u001b[0m\u001b[1;33m\u001b[0m\u001b[0m\n\u001b[0m\u001b[0;32m     94\u001b[0m \u001b[1;33m\u001b[0m\u001b[0m\n\u001b[0;32m     95\u001b[0m     \u001b[1;32mdef\u001b[0m \u001b[0mextra_repr\u001b[0m\u001b[1;33m(\u001b[0m\u001b[0mself\u001b[0m\u001b[1;33m)\u001b[0m \u001b[1;33m->\u001b[0m \u001b[0mstr\u001b[0m\u001b[1;33m:\u001b[0m\u001b[1;33m\u001b[0m\u001b[1;33m\u001b[0m\u001b[0m\n",
      "\u001b[1;32md:\\python3.7\\lib\\site-packages\\torch\\nn\\functional.py\u001b[0m in \u001b[0;36mlinear\u001b[1;34m(input, weight, bias)\u001b[0m\n\u001b[0;32m   1688\u001b[0m     \u001b[1;32mif\u001b[0m \u001b[0minput\u001b[0m\u001b[1;33m.\u001b[0m\u001b[0mdim\u001b[0m\u001b[1;33m(\u001b[0m\u001b[1;33m)\u001b[0m \u001b[1;33m==\u001b[0m \u001b[1;36m2\u001b[0m \u001b[1;32mand\u001b[0m \u001b[0mbias\u001b[0m \u001b[1;32mis\u001b[0m \u001b[1;32mnot\u001b[0m \u001b[1;32mNone\u001b[0m\u001b[1;33m:\u001b[0m\u001b[1;33m\u001b[0m\u001b[1;33m\u001b[0m\u001b[0m\n\u001b[0;32m   1689\u001b[0m         \u001b[1;31m# fused op is marginally faster\u001b[0m\u001b[1;33m\u001b[0m\u001b[1;33m\u001b[0m\u001b[1;33m\u001b[0m\u001b[0m\n\u001b[1;32m-> 1690\u001b[1;33m         \u001b[0mret\u001b[0m \u001b[1;33m=\u001b[0m \u001b[0mtorch\u001b[0m\u001b[1;33m.\u001b[0m\u001b[0maddmm\u001b[0m\u001b[1;33m(\u001b[0m\u001b[0mbias\u001b[0m\u001b[1;33m,\u001b[0m \u001b[0minput\u001b[0m\u001b[1;33m,\u001b[0m \u001b[0mweight\u001b[0m\u001b[1;33m.\u001b[0m\u001b[0mt\u001b[0m\u001b[1;33m(\u001b[0m\u001b[1;33m)\u001b[0m\u001b[1;33m)\u001b[0m\u001b[1;33m\u001b[0m\u001b[1;33m\u001b[0m\u001b[0m\n\u001b[0m\u001b[0;32m   1691\u001b[0m     \u001b[1;32melse\u001b[0m\u001b[1;33m:\u001b[0m\u001b[1;33m\u001b[0m\u001b[1;33m\u001b[0m\u001b[0m\n\u001b[0;32m   1692\u001b[0m         \u001b[0moutput\u001b[0m \u001b[1;33m=\u001b[0m \u001b[0minput\u001b[0m\u001b[1;33m.\u001b[0m\u001b[0mmatmul\u001b[0m\u001b[1;33m(\u001b[0m\u001b[0mweight\u001b[0m\u001b[1;33m.\u001b[0m\u001b[0mt\u001b[0m\u001b[1;33m(\u001b[0m\u001b[1;33m)\u001b[0m\u001b[1;33m)\u001b[0m\u001b[1;33m\u001b[0m\u001b[1;33m\u001b[0m\u001b[0m\n",
      "\u001b[1;31mKeyboardInterrupt\u001b[0m: "
     ]
    }
   ],
   "source": [
    "\n",
    "loss_step = 50\n",
    "\n",
    "for epoch in tqdm(range(epochs)):\n",
    "\n",
    "    running_loss = 0.0\n",
    "    for step, (x, y) in enumerate(zip(x_loader, y_loader)):\n",
    "\n",
    "\n",
    "        \n",
    "        optimizer.zero_grad()\n",
    "\n",
    "        pred = model.forward(x.float())\n",
    "#         print(pred)\n",
    "        loss = loss_fn(pred, y.float())\n",
    "\n",
    "        loss.backward()\n",
    "\n",
    "        optimizer.step()\n",
    "\n",
    "        running_loss += loss\n",
    "\n",
    "        if (step + 1) % loss_step == 0 :\n",
    "            average_loss = running_loss / loss_step\n",
    "\n",
    "            print('epoch: {0}, step: {1}, loss: {2}'.format(epoch + 1, step + 1, average_loss))\n",
    "\n",
    "            losses.append(average_loss)\n",
    "            running_loss = 0.0 \n",
    "\n",
    "with torch.no_grad():\n",
    "    plt.plot(np.arange(len(losses)), losses)\n",
    "    plt.show()\n",
    "\n",
    "print('Обучение законченно!!!')\n",
    "\n",
    "# PATH = 'model_CNN_1.1'\n",
    "# torch.save(model.state_dict(), PATH)\n",
    "\n",
    "# print('Модель сохранена')"
   ]
  },
  {
   "cell_type": "code",
   "execution_count": null,
   "metadata": {
    "hidden": true
   },
   "outputs": [],
   "source": []
  },
  {
   "cell_type": "code",
   "execution_count": null,
   "metadata": {
    "hidden": true
   },
   "outputs": [],
   "source": []
  },
  {
   "cell_type": "code",
   "execution_count": null,
   "metadata": {
    "hidden": true
   },
   "outputs": [],
   "source": []
  },
  {
   "cell_type": "code",
   "execution_count": null,
   "metadata": {
    "hidden": true
   },
   "outputs": [],
   "source": []
  },
  {
   "cell_type": "markdown",
   "metadata": {},
   "source": [
    "# Data Test Load and Predict"
   ]
  },
  {
   "cell_type": "code",
   "execution_count": 280,
   "metadata": {},
   "outputs": [],
   "source": [
    "diagnosticresultdetails_test = pd.read_csv('data_test/diagnosticresultdetails.csv')\n",
    "diagnosticresults_test = pd.read_csv('data_test/diagnosticresults.csv')\n",
    "egeresultdetails_test = pd.read_csv('data_test/egeresultdetails.csv')\n",
    "egeresults_test = pd.read_csv('data_test/egeresults.csv')\n",
    "medalistresults_test = pd.read_csv('data_test/medalistresults.csv')\n",
    "medalistsubjects_test= pd.read_csv('data_test/medalistsubjects.csv')\n",
    "participants_test = pd.read_csv('data_test/participants.csv')\n",
    "selfdiagnosticresultdetails_test = pd.read_csv('data_test/selfdiagnosticresultdetails.csv')\n",
    "selfdiagnosticresults_test = pd.read_csv('data_test/selfdiagnosticresults.csv')\n",
    "# subjects = pd.read_csv('data_test/subjects.csv')"
   ]
  },
  {
   "cell_type": "code",
   "execution_count": null,
   "metadata": {},
   "outputs": [],
   "source": []
  },
  {
   "cell_type": "code",
   "execution_count": 303,
   "metadata": {},
   "outputs": [],
   "source": [
    "diagnosticresults_all_test = diagnosticresults_test.merge(diagnosticresultdetails_test, how='inner', on='ResultId')"
   ]
  },
  {
   "cell_type": "code",
   "execution_count": 304,
   "metadata": {},
   "outputs": [],
   "source": [
    "diagnosticresults_all_test = diagnosticresults_all_test.drop(['ResultId', 'Source_x', 'TestDate', 'Partition_x', 'Id', 'Source_y', 'NumberInKim', 'ClassifierId', 'Partition_y'], axis=1)"
   ]
  },
  {
   "cell_type": "code",
   "execution_count": null,
   "metadata": {},
   "outputs": [],
   "source": []
  },
  {
   "cell_type": "code",
   "execution_count": 305,
   "metadata": {},
   "outputs": [],
   "source": [
    "selfdiagnosticresult_all_test = selfdiagnosticresults_test.merge(selfdiagnosticresultdetails_test, how='inner', left_on='Id', right_on='ResultId')"
   ]
  },
  {
   "cell_type": "code",
   "execution_count": 306,
   "metadata": {},
   "outputs": [],
   "source": [
    "selfdiagnosticresult_all_test = selfdiagnosticresult_all_test.drop(['TestDate', 'Id_x', 'Partition_x', 'ResultId', 'Id_y', 'NumberInKim', 'ClassifierId', 'Partition_y'], axis=1)"
   ]
  },
  {
   "cell_type": "code",
   "execution_count": 307,
   "metadata": {},
   "outputs": [],
   "source": [
    "selfdiagnosticresult_all_test['Mark_x'] = selfdiagnosticresult_all_test['Mark_x'].fillna(selfdiagnosticresult_all_test['Mark_x'].mean())\n",
    "selfdiagnosticresult_all_test['Mark_y'] = selfdiagnosticresult_all_test['Mark_y'].fillna(selfdiagnosticresult_all_test['Mark_y'].mean())"
   ]
  },
  {
   "cell_type": "code",
   "execution_count": null,
   "metadata": {},
   "outputs": [],
   "source": []
  },
  {
   "cell_type": "code",
   "execution_count": 308,
   "metadata": {},
   "outputs": [],
   "source": [
    "selfdiagnosticresult_all_test = selfdiagnosticresult_all_test.rename(columns={'Mark_x': 'Marks_x', 'MaxMark_x': 'MaxMarks_x'})"
   ]
  },
  {
   "cell_type": "code",
   "execution_count": null,
   "metadata": {},
   "outputs": [],
   "source": []
  },
  {
   "cell_type": "code",
   "execution_count": 309,
   "metadata": {},
   "outputs": [],
   "source": [
    "diagnosticresults_all_test['pr_x'] = diagnosticresults_all_test['Mark_x'] / diagnosticresults_all_test['MaxMark_x']\n",
    "diagnosticresults_all_test['pr_y'] = diagnosticresults_all_test['Mark_y'] / diagnosticresults_all_test['MaxMark_y']\n",
    "selfdiagnosticresult_all_test['pr_z'] = selfdiagnosticresult_all_test['Marks_x'] / selfdiagnosticresult_all_test['MaxMarks_x']"
   ]
  },
  {
   "cell_type": "code",
   "execution_count": null,
   "metadata": {},
   "outputs": [],
   "source": []
  },
  {
   "cell_type": "code",
   "execution_count": 310,
   "metadata": {},
   "outputs": [],
   "source": [
    "egeresult_test = egeresults_test.drop(['Id', 'DateExam', 'Partition'], axis=1)\\\n",
    "            .merge(medalistresults_test.drop(['Id', 'Partition'], axis=1), how='left', on='ParticipantId')\n",
    "\n",
    "egeresult_test['Type'] = egeresult_test['Type'].fillna(-1)\n",
    "egeresult_test = egeresult_test.merge(diagnosticresults_all_test, how='left', on='ParticipantId')\n",
    "egeresult_test = egeresult_test.merge(selfdiagnosticresult_all_test.drop(['Mark_y', 'MaxMark_y'], axis=1), how='left', on='ParticipantId')"
   ]
  },
  {
   "cell_type": "code",
   "execution_count": null,
   "metadata": {},
   "outputs": [],
   "source": []
  },
  {
   "cell_type": "code",
   "execution_count": 311,
   "metadata": {},
   "outputs": [],
   "source": [
    "# egeresult_test = egeresults_test.drop(['Id', 'DateExam', 'Partition'], axis=1)\\\n",
    "#             .merge(medalistresults_test.drop(['Id', 'Partition'], axis=1), how='left', on='ParticipantId')\n",
    "\n",
    "# egeresult_test['Type'] = egeresult_test['Type'].fillna(-1)"
   ]
  },
  {
   "cell_type": "code",
   "execution_count": 312,
   "metadata": {},
   "outputs": [],
   "source": [
    "Xt = egeresult_test[[\n",
    "    'SubjectId_x',\n",
    "    'Type',\n",
    "    'pr_x',\n",
    "    'pr_y',\n",
    "    'pr_z',\n",
    "    'SubjectId'\n",
    "    \n",
    "]]\n",
    "yt = egeresult_test['MarkPercent']\n",
    "\n",
    "\n",
    "# Xt = egeresult_test.drop(['ParticipantId', 'MarkPercent'], axis=1)\n",
    "# yt = egeresult_test['MarkPercent']"
   ]
  },
  {
   "cell_type": "markdown",
   "metadata": {},
   "source": [
    "### Final Result"
   ]
  },
  {
   "cell_type": "code",
   "execution_count": 313,
   "metadata": {},
   "outputs": [
    {
     "data": {
      "text/plain": [
       "13.803962676819637"
      ]
     },
     "execution_count": 313,
     "metadata": {},
     "output_type": "execute_result"
    }
   ],
   "source": [
    "mean_squared_error(yt, lgbm.predict(Xt), squared=False)"
   ]
  },
  {
   "cell_type": "code",
   "execution_count": 314,
   "metadata": {},
   "outputs": [],
   "source": [
    "pred_test = lgbm.predict(Xt)"
   ]
  },
  {
   "cell_type": "code",
   "execution_count": null,
   "metadata": {},
   "outputs": [],
   "source": []
  },
  {
   "cell_type": "code",
   "execution_count": null,
   "metadata": {},
   "outputs": [],
   "source": []
  },
  {
   "cell_type": "code",
   "execution_count": 324,
   "metadata": {},
   "outputs": [],
   "source": [
    "sub = pd.DataFrame()\n",
    "\n",
    "sub['ParticipantId'] = egeresult_test['ParticipantId']\n",
    "sub['SubjectId'] = egeresult_test['SubjectId']"
   ]
  },
  {
   "cell_type": "markdown",
   "metadata": {},
   "source": []
  },
  {
   "cell_type": "markdown",
   "metadata": {},
   "source": [
    "# немного не успел сформировать submit"
   ]
  },
  {
   "cell_type": "markdown",
   "metadata": {},
   "source": []
  }
 ],
 "metadata": {
  "kernelspec": {
   "display_name": "Python 3",
   "language": "python",
   "name": "python3"
  },
  "language_info": {
   "codemirror_mode": {
    "name": "ipython",
    "version": 3
   },
   "file_extension": ".py",
   "mimetype": "text/x-python",
   "name": "python",
   "nbconvert_exporter": "python",
   "pygments_lexer": "ipython3",
   "version": "3.7.9"
  }
 },
 "nbformat": 4,
 "nbformat_minor": 4
}
